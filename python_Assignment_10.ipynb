{
 "cells": [
  {
   "cell_type": "code",
   "execution_count": 9,
   "id": "37d727d6",
   "metadata": {},
   "outputs": [
    {
     "data": {
      "text/plain": [
       "134"
      ]
     },
     "execution_count": 9,
     "metadata": {},
     "output_type": "execute_result"
    }
   ],
   "source": [
    "# 1. Write a Python program to find sum of elements in list?\n",
    "lists=[1,5,8,32,43,45]\n",
    "def sum(lists):\n",
    "    sum=0\n",
    "    for element in lists:\n",
    "        sum+=element\n",
    "    return sum\n",
    "lists=[1,5,8,32,43,45]\n",
    "sums_of_element=sum(lists)\n",
    "sums_of_element"
   ]
  },
  {
   "cell_type": "code",
   "execution_count": 11,
   "id": "b9087664",
   "metadata": {},
   "outputs": [
    {
     "name": "stdout",
     "output_type": "stream",
     "text": [
      "Product: 120\n"
     ]
    }
   ],
   "source": [
    "# 2. Write a Python program to Multiply all numbers in the list?\n",
    "def multiply_numbers(numbers):\n",
    "    result = 1\n",
    "    for num in numbers:\n",
    "        result *= num\n",
    "    return result\n",
    "\n",
    "my_list = [2, 3, 4, 5]\n",
    "product = multiply_numbers(my_list)\n",
    "print(\"Product:\", product)\n"
   ]
  },
  {
   "cell_type": "code",
   "execution_count": 12,
   "id": "bbde9589",
   "metadata": {},
   "outputs": [
    {
     "name": "stdout",
     "output_type": "stream",
     "text": [
      "1\n"
     ]
    }
   ],
   "source": [
    "# 3. Write a Python program to find smallest number in a list?\n",
    "def find_smallest_number(numbers):\n",
    "    smallest = numbers[0]\n",
    "    for num in numbers:\n",
    "        if num < smallest:\n",
    "            smallest = num\n",
    "    return smallest\n",
    "\n",
    "my_list = [5, 2, 9, 1, 7]\n",
    "smallest_number = find_smallest_number(my_list)\n",
    "print(smallest_number)\n"
   ]
  },
  {
   "cell_type": "code",
   "execution_count": 13,
   "id": "fb823384",
   "metadata": {},
   "outputs": [
    {
     "name": "stdout",
     "output_type": "stream",
     "text": [
      "9\n"
     ]
    }
   ],
   "source": [
    "# 4. Write a Python program to find largest number in a list?\n",
    "def find_largest_number(numbers):\n",
    "    largest = numbers[0]\n",
    "    for num in numbers:\n",
    "        if num > largest:\n",
    "            largest = num\n",
    "    return largest\n",
    "\n",
    "my_list = [5, 2, 9, 1, 7]\n",
    "largest_number = find_largest_number(my_list)\n",
    "print(largest_number)\n"
   ]
  },
  {
   "cell_type": "code",
   "execution_count": 14,
   "id": "d2e8325b",
   "metadata": {},
   "outputs": [
    {
     "name": "stdout",
     "output_type": "stream",
     "text": [
      "7\n"
     ]
    }
   ],
   "source": [
    "# 5. Write a Python program to find second largest number in a list?\n",
    "def find_second_largest(numbers):\n",
    "\n",
    "    largest = float('-inf')\n",
    "    second_largest = float('-inf')\n",
    "    \n",
    "    for num in numbers:\n",
    "        if num > largest:\n",
    "            second_largest = largest\n",
    "            largest = num\n",
    "        elif num > second_largest and num != largest:\n",
    "            second_largest = num\n",
    "    \n",
    "    if second_largest == float('-inf'):\n",
    "        return None\n",
    "    else:\n",
    "        return second_largest\n",
    "\n",
    "my_list = [5, 2, 9, 1, 7]\n",
    "second_largest_number = find_second_largest(my_list)\n",
    "if second_largest_number is not None:\n",
    "    print(second_largest_number)\n",
    "else:\n",
    "    print(\"No second largest number found\")\n"
   ]
  },
  {
   "cell_type": "code",
   "execution_count": 16,
   "id": "a8cfd0d8",
   "metadata": {},
   "outputs": [
    {
     "name": "stdout",
     "output_type": "stream",
     "text": [
      "3 largest elements: [9, 8, 7]\n"
     ]
    }
   ],
   "source": [
    "# 6. Write a Python program to find N largest elements from a list?\n",
    "def find_n_largest(numbers, n):\n",
    "    if n > len(numbers):\n",
    "        return None\n",
    "    \n",
    "    sorted_numbers = sorted(numbers, reverse=True)\n",
    "    n_largest = sorted_numbers[:n]\n",
    "    return n_largest\n",
    "\n",
    "my_list = [5, 2, 9, 1, 7, 3, 8, 6, 4]\n",
    "n = 3\n",
    "n_largest_elements = find_n_largest(my_list, n)\n",
    "if n_largest_elements is not None:\n",
    "    print(f\"{n} largest elements:\", n_largest_elements)\n",
    "else:\n",
    "    print(\"Not enough elements in the list.\")\n"
   ]
  },
  {
   "cell_type": "code",
   "execution_count": 20,
   "id": "999bee09",
   "metadata": {},
   "outputs": [
    {
     "name": "stdout",
     "output_type": "stream",
     "text": [
      "2\n",
      "4\n",
      "6\n",
      "8\n",
      "10\n"
     ]
    }
   ],
   "source": [
    "# 7. Write a Python program to print even numbers in a list?\n",
    "my_list = [1, 2, 3, 4, 5, 6, 7, 8, 9, 10]\n",
    "for num in my_list:\n",
    "    if num % 2 == 0:\n",
    "        print(num)\n",
    "\n"
   ]
  },
  {
   "cell_type": "code",
   "execution_count": 25,
   "id": "3d30695a",
   "metadata": {},
   "outputs": [
    {
     "name": "stdout",
     "output_type": "stream",
     "text": [
      "1\n",
      "3\n",
      "5\n",
      "7\n",
      "9\n"
     ]
    }
   ],
   "source": [
    "# 8. Write a Python program to print odd numbers in a List?\n",
    "\n",
    "my_list = [1, 2, 3, 4, 5, 6, 7, 8, 9, 10]\n",
    "for num in my_list:\n",
    "    if num % 2 != 0:\n",
    "        print(num)\n",
    "\n",
    "\n",
    "# 9. Write a Python program to Remove empty List from List?\n",
    "# 10. Write a Python program to Cloning or Copying a list?\n",
    "# 11. Write a Python program to Count occurrences of an element in a list?"
   ]
  },
  {
   "cell_type": "code",
   "execution_count": 26,
   "id": "81b5b1c6",
   "metadata": {},
   "outputs": [
    {
     "name": "stdout",
     "output_type": "stream",
     "text": [
      "List after removing empty lists:\n",
      "[[1, 2], [3, 4, 5], [6]]\n"
     ]
    }
   ],
   "source": [
    "# 9. Write a Python program to Remove empty List from List?\n",
    "def remove_empty_lists(lst):\n",
    "    return [sublist for sublist in lst if sublist]\n",
    "\n",
    "my_list = [[], [1, 2], [], [3, 4, 5], [], [6], []]\n",
    "print(\"\" after removing empty lists:\")\n",
    "new_list = remove_empty_lists(my_list)\n",
    "print(new_list)\n"
   ]
  },
  {
   "cell_type": "code",
   "execution_count": 28,
   "id": "81039a9c",
   "metadata": {},
   "outputs": [
    {
     "data": {
      "text/plain": [
       "[1, 2, 3, 4, 5]"
      ]
     },
     "execution_count": 28,
     "metadata": {},
     "output_type": "execute_result"
    }
   ],
   "source": [
    "# 10. Write a Python program to Cloning or Copying a list?\n",
    "my_list = [1, 2, 3, 4, 5]\n",
    "list2=my_list.copy()\n",
    "list2"
   ]
  },
  {
   "cell_type": "code",
   "execution_count": 31,
   "id": "fdccb9a5",
   "metadata": {},
   "outputs": [
    {
     "data": {
      "text/plain": [
       "4"
      ]
     },
     "execution_count": 31,
     "metadata": {},
     "output_type": "execute_result"
    }
   ],
   "source": [
    "# 11. Write a Python program to Count occurrences of an element in a list?\n",
    "my_list = [1, 2, 3, 4, 2, 2, 5, 6, 2]\n",
    "element = my_list.count(2)\n",
    "element"
   ]
  },
  {
   "cell_type": "code",
   "execution_count": null,
   "id": "afdbd055",
   "metadata": {},
   "outputs": [],
   "source": []
  }
 ],
 "metadata": {
  "kernelspec": {
   "display_name": "Python 3 (ipykernel)",
   "language": "python",
   "name": "python3"
  },
  "language_info": {
   "codemirror_mode": {
    "name": "ipython",
    "version": 3
   },
   "file_extension": ".py",
   "mimetype": "text/x-python",
   "name": "python",
   "nbconvert_exporter": "python",
   "pygments_lexer": "ipython3",
   "version": "3.10.9"
  }
 },
 "nbformat": 4,
 "nbformat_minor": 5
}
