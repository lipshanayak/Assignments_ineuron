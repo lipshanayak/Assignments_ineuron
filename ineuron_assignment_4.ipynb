{
 "cells": [
  {
   "cell_type": "raw",
   "metadata": {},
   "source": [
    "1. What exactly is []?\n",
    "Ans:This is an empty list"
   ]
  },
  {
   "cell_type": "code",
   "execution_count": null,
   "metadata": {},
   "outputs": [],
   "source": [
    "# 2. In a list of values stored in a variable called spam, how would you assign the value &#39;hello&#39; as the\n",
    "# third value? (Assume [2, 4, 6, 8, 10] are in spam.)\n",
    "# Ans:\n",
    "spam=[2, 4, 6, 8, 10]\n",
    "spam[2]=\"hello\"\n",
    "spam"
   ]
  },
  {
   "cell_type": "markdown",
   "metadata": {},
   "source": [
    "3. What is the value of spam[int(int(&#39;3&#39; * 2) / 11)]?"
   ]
  },
  {
   "cell_type": "code",
   "execution_count": null,
   "metadata": {},
   "outputs": [],
   "source": [
    "spam=['a','b','c','d']\n",
    "spam[int(int('3' * 2) / 11)]"
   ]
  },
  {
   "cell_type": "raw",
   "metadata": {},
   "source": [
    "# 4. What is the value of spam[-1]?\n",
    "Ans:'d'"
   ]
  },
  {
   "cell_type": "raw",
   "metadata": {},
   "source": [
    "# 5. What is the value of spam[:2]?\n",
    "Ans:['a','b']"
   ]
  },
  {
   "cell_type": "code",
   "execution_count": null,
   "metadata": {},
   "outputs": [],
   "source": [
    "# 6. What is the value of bacon.index('cat')?\n",
    "Ans:1"
   ]
  },
  {
   "cell_type": "code",
   "execution_count": null,
   "metadata": {},
   "outputs": [],
   "source": [
    "# 7. How does bacon.append(99) change the look of the list value in bacon?\n",
    "Ans:[3.14, 'cat', 11, 'cat', True, 99]--it will add the element at theend of the list"
   ]
  },
  {
   "cell_type": "code",
   "execution_count": 2,
   "metadata": {},
   "outputs": [],
   "source": [
    "bacon=[3.14, 'cat', 11, 'cat', True]"
   ]
  },
  {
   "cell_type": "raw",
   "metadata": {},
   "source": [
    "# 8. How does bacon.remove('cat') change the look of the list in bacon?\n",
    "Ans:[3.14, 11, 'cat', True]"
   ]
  },
  {
   "cell_type": "raw",
   "metadata": {},
   "source": [
    "# 9. What are the list concatenation and list replication operators?\n",
    "Ans:List concatenation operator is '+' and list replication operator is '*'"
   ]
  },
  {
   "cell_type": "raw",
   "metadata": {},
   "source": [
    "# 10. What is difference between the list methods append() and insert()?\n",
    "#  Ans:Append() used to add element at the end of the list. And insert() is used to add element at any position in the list."
   ]
  },
  {
   "cell_type": "raw",
   "metadata": {},
   "source": [
    "# 11. What are the two methods for removing items from a list?\n",
    "# Ans:pop() and remove()"
   ]
  },
  {
   "cell_type": "raw",
   "metadata": {},
   "source": [
    "# 12. Describe how list values and string values are identical.\n",
    "Ans:*Both lists and strings can be passed to len()\n",
    "*Have indexes and slices\n",
    "*Can be used in for loops\n",
    "*Can be concatenated or replicated\n",
    "*Can be used with the in and not in operators"
   ]
  },
  {
   "cell_type": "code",
   "execution_count": null,
   "metadata": {},
   "outputs": [],
   "source": [
    "# 13. What's the difference between tuples and lists?\n",
    "Ans:List is mutable whereas tuples are immutable.\n",
    "    list is better for performing operation like insertion and deletion whereas tuples is used to acessing the elements.\n",
    "    list have many buit-in function whereas tuples don't have.\n",
    "    List is written as []Square bracket\n",
    "    And tuples are written as () as round bracket"
   ]
  },
  {
   "cell_type": "code",
   "execution_count": 24,
   "metadata": {},
   "outputs": [
    {
     "data": {
      "text/plain": [
       "tuple"
      ]
     },
     "execution_count": 24,
     "metadata": {},
     "output_type": "execute_result"
    }
   ],
   "source": [
    "# 14. How do you type a tuple value that only contains the integer 42?\n",
    "# Ans:\n",
    "tuples=(42,)\n",
    "type(tuples)"
   ]
  },
  {
   "cell_type": "code",
   "execution_count": 35,
   "metadata": {},
   "outputs": [
    {
     "data": {
      "text/plain": [
       "tuple"
      ]
     },
     "execution_count": 35,
     "metadata": {},
     "output_type": "execute_result"
    }
   ],
   "source": [
    "# 15. How do you get a list values tuple form? How do you get a tuple value&#39;s list form?\n",
    "# Ans:list to tuple\n",
    "list1=[34,56,12]\n",
    "type(list1)\n",
    "list1=tuple([34,56,12])\n",
    "type(list1)\n",
    "\n"
   ]
  },
  {
   "cell_type": "code",
   "execution_count": 34,
   "metadata": {},
   "outputs": [
    {
     "data": {
      "text/plain": [
       "list"
      ]
     },
     "execution_count": 34,
     "metadata": {},
     "output_type": "execute_result"
    }
   ],
   "source": [
    "# tuple to list\n",
    "tuple1=(34,56,12)\n",
    "type(tuple1)\n",
    "tuple1=list((34,56,12))\n",
    "type(tuple1)"
   ]
  },
  {
   "cell_type": "raw",
   "metadata": {},
   "source": [
    "16. Variables that 'contain'; list values are not necessarily lists themselves. Instead, what do they\n",
    "contain?\n",
    "Ans:They contain references to list values."
   ]
  },
  {
   "cell_type": "raw",
   "metadata": {},
   "source": [
    "17. How do you distinguish between copy.copy() and copy.deepcopy()?\n",
    "Ans: The copy() returns a shallow copy of the list, and deepcopy() returns a deep copy of the list."
   ]
  },
  {
   "cell_type": "code",
   "execution_count": 40,
   "metadata": {},
   "outputs": [],
   "source": []
  },
  {
   "cell_type": "code",
   "execution_count": null,
   "metadata": {},
   "outputs": [],
   "source": []
  },
  {
   "cell_type": "code",
   "execution_count": null,
   "metadata": {},
   "outputs": [],
   "source": []
  }
 ],
 "metadata": {
  "kernelspec": {
   "display_name": "Python 3",
   "language": "python",
   "name": "python3"
  },
  "language_info": {
   "codemirror_mode": {
    "name": "ipython",
    "version": 3
   },
   "file_extension": ".py",
   "mimetype": "text/x-python",
   "name": "python",
   "nbconvert_exporter": "python",
   "pygments_lexer": "ipython3",
   "version": "3.8.5"
  }
 },
 "nbformat": 4,
 "nbformat_minor": 4
}
