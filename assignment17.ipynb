{
 "cells": [
  {
   "cell_type": "code",
   "execution_count": 2,
   "metadata": {},
   "outputs": [
    {
     "name": "stdout",
     "output_type": "stream",
     "text": [
      "enter value : 5]\n"
     ]
    },
    {
     "ename": "ValueError",
     "evalue": "invalid literal for int() with base 10: '5]'",
     "output_type": "error",
     "traceback": [
      "\u001b[1;31m---------------------------------------------------------------------------\u001b[0m",
      "\u001b[1;31mValueError\u001b[0m                                Traceback (most recent call last)",
      "\u001b[1;32m<ipython-input-2-7d407a1cc859>\u001b[0m in \u001b[0;36m<module>\u001b[1;34m\u001b[0m\n\u001b[0;32m      2\u001b[0m \u001b[1;31m# print the string &#39;too low&#39; if guess_me is less than 7, &#39;too high&#39; if greater than 7, and &#39;just right&#39; if equal\u001b[0m\u001b[1;33m\u001b[0m\u001b[1;33m\u001b[0m\u001b[1;33m\u001b[0m\u001b[0m\n\u001b[0;32m      3\u001b[0m \u001b[1;31m# to 7.\u001b[0m\u001b[1;33m\u001b[0m\u001b[1;33m\u001b[0m\u001b[1;33m\u001b[0m\u001b[0m\n\u001b[1;32m----> 4\u001b[1;33m \u001b[0mans\u001b[0m\u001b[1;33m:\u001b[0m\u001b[0mguess_me\u001b[0m \u001b[1;33m=\u001b[0m \u001b[0mint\u001b[0m\u001b[1;33m(\u001b[0m\u001b[0minput\u001b[0m\u001b[1;33m(\u001b[0m\u001b[1;34m\"enter value : \"\u001b[0m\u001b[1;33m)\u001b[0m\u001b[1;33m)\u001b[0m\u001b[1;33m\u001b[0m\u001b[1;33m\u001b[0m\u001b[0m\n\u001b[0m\u001b[0;32m      5\u001b[0m \u001b[1;32mif\u001b[0m \u001b[0mguess_me\u001b[0m \u001b[1;33m==\u001b[0m \u001b[1;36m7\u001b[0m \u001b[1;33m:\u001b[0m\u001b[1;33m\u001b[0m\u001b[1;33m\u001b[0m\u001b[0m\n\u001b[0;32m      6\u001b[0m     \u001b[0mprint\u001b[0m\u001b[1;33m(\u001b[0m\u001b[1;34m'Just Right'\u001b[0m\u001b[1;33m)\u001b[0m\u001b[1;33m\u001b[0m\u001b[1;33m\u001b[0m\u001b[0m\n",
      "\u001b[1;31mValueError\u001b[0m: invalid literal for int() with base 10: '5]'"
     ]
    }
   ],
   "source": [
    "# 1. Assign the value 7 to the variable guess_me. Then, write the conditional tests (if, else, and elif) to\n",
    "# print the string &#39;too low&#39; if guess_me is less than 7, &#39;too high&#39; if greater than 7, and &#39;just right&#39; if equal\n",
    "# to 7.\n",
    "ans:guess_me = int(input(\"enter value : \"))\n",
    "if guess_me == 7 :\n",
    "    print('Just Right')\n",
    "elif guess_me > 7 :\n",
    "    print(\"Too High\")\n",
    "else:\n",
    "    print('Too Low')\n"
   ]
  },
  {
   "cell_type": "code",
   "execution_count": 3,
   "metadata": {},
   "outputs": [
    {
     "name": "stdout",
     "output_type": "stream",
     "text": [
      "too low\n",
      "too low\n",
      "too low\n",
      "too low\n",
      "too low\n",
      "too low\n",
      "found it!\n"
     ]
    }
   ],
   "source": [
    "# 2. Assign the value 7 to the variable guess_me and the value 1 to the variable start. Write a while\n",
    "# loop that compares start with guess_me. Print too low if start is less than guess me. If start equals\n",
    "# guess_me, print &#39;found it!&#39; and exit the loop. If start is greater than guess_me, print &#39;oops&#39; and exit\n",
    "# the loop. Increment start at the end of the loop.\n",
    "# ans:\n",
    "# guess_me = 7\n",
    "# start = 1\n",
    "\n",
    "# while True:\n",
    "#     if start < guess_me:\n",
    "#         print('too low')\n",
    "#     elif start == guess_me:\n",
    "#         print('found it!')\n",
    "#         break\n",
    "#     else:\n",
    "#         print('oops')\n",
    "#         break\n",
    "#     start += 1\n"
   ]
  },
  {
   "cell_type": "code",
   "execution_count": 4,
   "metadata": {},
   "outputs": [
    {
     "name": "stdout",
     "output_type": "stream",
     "text": [
      "3\n",
      "2\n",
      "1\n",
      "0\n"
     ]
    }
   ],
   "source": [
    "# # 3. Print the following values of the list [3, 2, 1, 0] using a for loop.\n",
    "# # ans:\n",
    "# lst = [3,2,1,0]\n",
    "# for i in lst:\n",
    "#     print(i)\n"
   ]
  },
  {
   "cell_type": "code",
   "execution_count": 5,
   "metadata": {},
   "outputs": [
    {
     "data": {
      "text/plain": [
       "[0, 2, 4, 6, 8]"
      ]
     },
     "execution_count": 5,
     "metadata": {},
     "output_type": "execute_result"
    }
   ],
   "source": [
    "# # 4. Use a list comprehension to make a list of the even numbers in range(10)\n",
    "# even = [item for item in range(10) if item%2==0]\n",
    "# even\n"
   ]
  },
  {
   "cell_type": "code",
   "execution_count": 6,
   "metadata": {},
   "outputs": [
    {
     "data": {
      "text/plain": [
       "{0: 0, 1: 1, 2: 4, 3: 9, 4: 16, 5: 25, 6: 36, 7: 49, 8: 64, 9: 81}"
      ]
     },
     "execution_count": 6,
     "metadata": {},
     "output_type": "execute_result"
    }
   ],
   "source": [
    "# # 5. Use a dictionary comprehension to create the dictionary squares. Use range(10) to return the # keys, and use the square of each key as its value.\n",
    "# squares = {num: num * num for num in range(10)}\n",
    "# squares\n",
    "\n"
   ]
  },
  {
   "cell_type": "code",
   "execution_count": 7,
   "metadata": {},
   "outputs": [],
   "source": [
    "# # 6. Construct the set odd from the odd numbers in the range using a set comprehension (10).\n",
    "# ans:\n",
    "# odd = {item for item in range(10) if item%2==1}\n",
    "# odd\n",
    "\n",
    "# # 7. Use a generator comprehension to return the string &#39;Got &#39; and a number for the numbers in\n",
    "# # range(10). Iterate through this by using a for loop.\n",
    "# ans:\n",
    "# string_generator = ('Got ' + str(num) for num in range(10))\n",
    "# for item in string_generator:\n",
    "#     print(item)\n",
    "    \n",
    "# # 8. Define a function called good that returns the list [&#39;Harry&#39;, &#39;Ron&#39;, &#39;Hermione&#39;].\n",
    "# ans:\n",
    "# def retunList():\n",
    "#     return ['Harry', 'Ron', 'Hermione']\n",
    "# retunList()\n",
    "\n",
    "# # 9. Define a generator function called get_odds that returns the odd numbers from range(10). Use a\n",
    "# # for loop to find and print the third value returned.\n",
    "# ans:\n",
    "#     def get_odds():\n",
    "#     for number in range(1, 10, 2):\n",
    "#          yield number\n",
    "# count = 1\n",
    "# for number in get_odds():\n",
    "#     if count == 3:\n",
    "#         print(\"The third odd number is\", number)\n",
    "#         break\n",
    "#     count += 1\n",
    "    \n"
   ]
  },
  {
   "cell_type": "code",
   "execution_count": null,
   "metadata": {},
   "outputs": [],
   "source": [
    "# 10. Define an exception called OopsException. Raise this exception to see what happens. Then write\n",
    "# the code to catch this exception and print &#39;Caught an oops&#39;.\n",
    "# ans:\n",
    "#     class OopsException(Exception):\n",
    "#     pass\n",
    "\n",
    "# def raiseException(num):\n",
    "#     if num < 0:\n",
    "#         raise OopsException(num)\n",
    "\n",
    "# try:\n",
    "#     raiseException(-1)\n",
    "# except OopsException as err:\n",
    "#     print('Caught an oops')\n",
    "\n",
    "# 11. Use zip() to make a dictionary called movies that pairs these lists: titles = [&#39;Creature of Habit&#39;,\n",
    "# # &#39;Crewel Fate&#39;] and plots = [&#39;A nun turns into a monster&#39;, &#39;A haunted yarn shop&#39;].\n",
    "# ans:titles = ['Creature of Habit', 'Crewel Fate']\n",
    "# plots = ['A nun turns into a monster', 'A haunted yarn shop']\n",
    "# movies = dict(zip(titles, plots))\n",
    "# print(movies)"
   ]
  }
 ],
 "metadata": {
  "kernelspec": {
   "display_name": "Python 3",
   "language": "python",
   "name": "python3"
  },
  "language_info": {
   "codemirror_mode": {
    "name": "ipython",
    "version": 3
   },
   "file_extension": ".py",
   "mimetype": "text/x-python",
   "name": "python",
   "nbconvert_exporter": "python",
   "pygments_lexer": "ipython3",
   "version": "3.8.5"
  }
 },
 "nbformat": 4,
 "nbformat_minor": 4
}
