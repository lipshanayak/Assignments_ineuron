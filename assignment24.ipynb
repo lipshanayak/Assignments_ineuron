{
 "cells": [
  {
   "cell_type": "code",
   "execution_count": null,
   "metadata": {},
   "outputs": [],
   "source": [
    "# 1.What is the relationship between def statements and lambda expressions?\n",
    "# The relationship between def statements and lambda expressions is that they both define functions in Python,\n",
    "# but they differ in syntax and usage.\n",
    "# def statements are used to define named functions with a block of code. They have a more comprehensive syntax and can include\n",
    "# multiple statements, control structures, and a return statement. They are typically used for more complex functions that \n",
    "# require multiple lines of code and have a specific name for reuse.\n",
    "# Lambda expressions, also known as anonymous functions, are defined using the lambda keyword and have a more compact syntax.\n",
    "# They can only consist of a single expression and automatically return the result of that expression. \n",
    "# Lambda expressions are often used for simple, one-time functions or as arguments for higher-order functions like map(),.\n",
    "# filter(), and reduce().\n"
   ]
  },
  {
   "cell_type": "code",
   "execution_count": 2,
   "metadata": {},
   "outputs": [],
   "source": [
    "# 2. What is the benefit of lambda?\n",
    "# The benefits of using lambda expressions in Python include:\n",
    "# Conciseness: Lambda expressions allow you to define small functions in a single line of code, making the code more readable and concise.\n",
    "# Convenience: They eliminate the need for writing a separate function definition for simple functions that are only used once.\n",
    "# Flexibility: Lambda expressions can be used as anonymous functions or as arguments to higher-order functions, enabling more flexible programming constructs.\n",
    "# Improved code readability: In some cases, using a lambda expression can make the code more readable by expressing the intention of the function directly where it is used."
   ]
  },
  {
   "cell_type": "code",
   "execution_count": 3,
   "metadata": {},
   "outputs": [],
   "source": [
    "# 3.Compare and contrast map, filter, and reduce.\n",
    "# map: The map() function applies a given function to each element of an iterable and returns an iterator of the results. \n",
    "# It takes two arguments: the function to apply and the iterable to apply it on. It returns a new iterable containing the \n",
    "# transformed values.\n",
    "\n",
    "# filter: The filter() function applies a given function to each element of an iterable and returns an iterator of the \n",
    "# elements for which the function returns True. It takes two arguments: the function to apply and the iterable to apply it on.\n",
    "# It returns a new iterable containing the filtered elements.\n",
    "\n",
    "# reduce: The reduce() function is used to apply a binary function to the elements of an iterable from left to right to\n",
    "# reduce them to a single value. It takes two arguments: the function to apply and the iterable to apply it on.\n",
    "# It returns a single value as the result.\n",
    "\n",
    "# 4. What are function annotations, and how are they used?\n",
    "# Ans. Function annotation is the standard way to access the metadata with the arguments and the return value of the function.\n",
    "# These are nothing but some random and optional Python expressions that get allied to different parts of the function.\n",
    "# They get evaluated only during the compile-time and have no significance during the run-time of the code.\n",
    "# They do not have any significance or meaning associated with them until accessed by some third-party libraries.\n",
    "# They are used to type check the functions by declaring the type of the parameters and the return value for the functions. \n",
    "# The string-based annotations help us to improve the help messages.\n",
    "\n",
    "# Syntax :\n",
    "\n",
    "# def func(a: 'int') -> 'int':\n",
    "# pass\n",
    "# Annotations for simple parameters:\n",
    "\n",
    "# def func(x: 'float'=10.8, y: 'argument2'):\n",
    "# In the above code the argument, ‘x’ of the function func, has been annotated to float data type and the argument ‘y’ has a string-based annotation. The argument can also be assigned to a default value using a ‘=’ symbol followed by the default value. These default values are optional to the code.\n",
    "# Annotations for return values:\n",
    "\n",
    "# def func(a: expression) -> 'int':\n",
    "# The annotations for the return value is written after the ‘->’ symbol..\n",
    "\n",
    "# 5. What are recursive functions, and how are they used?\n",
    "# This means that the function will continue to call itself and repeat its behavior until some condition is met to return \n",
    "# a result\n",
    "\n",
    "# # eg\n",
    "# def fact(x):\n",
    "#     if x == 1 :\n",
    "#         return 1\n",
    "#     else :\n",
    "#         return x * fact(x-1) # recurtion\n",
    "    \n",
    "# fact(3)\n",
    "\n",
    "# 6. What are some general design guidelines for coding functions?\n",
    "\n",
    "# 1.Use 4-space indentation and no tabs.\n",
    "# 2.Use docstrings\n",
    "# 3.Wrap linethat they don’t exceed 79 characters\n",
    "# 4.Use of regular and updated comments are valuable to both the coders and users\n",
    "# 5.Use of trailing commas : in case of tuple -> ('good',)\n",
    "# 6.Use Python’s default UTF-8 or ASCII encodings and not any fancy encodings\n",
    "# 7.Naming Conventions."
   ]
  },
  {
   "cell_type": "code",
   "execution_count": null,
   "metadata": {},
   "outputs": [],
   "source": [
    "# # 7. Name three or more ways that functions can communicate results to a caller.\n",
    "# Function can return single value\n",
    "# Can return multiple values, tuple\n",
    "# can return list,dictionary\n",
    "# can return function object\n",
    "# can return class object"
   ]
  }
 ],
 "metadata": {
  "kernelspec": {
   "display_name": "Python 3",
   "language": "python",
   "name": "python3"
  },
  "language_info": {
   "codemirror_mode": {
    "name": "ipython",
    "version": 3
   },
   "file_extension": ".py",
   "mimetype": "text/x-python",
   "name": "python",
   "nbconvert_exporter": "python",
   "pygments_lexer": "ipython3",
   "version": "3.8.5"
  }
 },
 "nbformat": 4,
 "nbformat_minor": 4
}
