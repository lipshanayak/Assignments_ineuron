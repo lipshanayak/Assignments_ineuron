{
 "cells": [
  {
   "cell_type": "code",
   "execution_count": null,
   "metadata": {},
   "outputs": [],
   "source": [
    "# 1.Write a Python Program to Find LCM?:\n",
    "def find_lcm(x, y):\n",
    "    if x > y:\n",
    "        greater = x\n",
    "    else:\n",
    "        greater = y\n",
    "\n",
    "    while True:\n",
    "        if greater % x == 0 and greater % y == 0:\n",
    "            lcm = greater\n",
    "            break\n",
    "        greater += 1\n",
    "\n",
    "    return lcm\n",
    "\n",
    "num1 = int(input(\"Enter first number: \"))\n",
    "num2 = int(input(\"Enter second number: \"))\n",
    "\n",
    "lcm = find_lcm(num1, num2)\n",
    "print(\"The LCM of\", num1, \"and\", num2, \"is\", lcm)\n",
    "\n"
   ]
  },
  {
   "cell_type": "code",
   "execution_count": null,
   "metadata": {},
   "outputs": [],
   "source": [
    "# 2. Write a Python Program to Find HCF?\n",
    "def find_hcf(x, y):\n",
    "    while y:\n",
    "        x, y = y, x % y\n",
    "    return x\n",
    "\n",
    "num1 = int(input(\"Enter first number: \"))\n",
    "num2 = int(input(\"Enter second number: \"))\n",
    "\n",
    "hcf = find_hcf(num1, num2)\n",
    "print(\"The HCF of\", num1, \"and\", num2, \"is\", hcf)"
   ]
  },
  {
   "cell_type": "code",
   "execution_count": 1,
   "metadata": {},
   "outputs": [
    {
     "name": "stdout",
     "output_type": "stream",
     "text": [
      "Enter a decimal number: 5\n",
      "Binary: 0b101\n",
      "Octal: 0o5\n",
      "Hexadecimal: 0x5\n"
     ]
    }
   ],
   "source": [
    "# 3. Write a Python Program to Convert Decimal to Binary, Octal and Hexadecimal?\n",
    "dec = int(input(\"Enter a decimal number: \"))\n",
    "\n",
    "print(\"Binary:\", bin(dec))\n",
    "print(\"Octal:\", oct(dec))\n",
    "print(\"Hexadecimal:\", hex(dec))"
   ]
  },
  {
   "cell_type": "code",
   "execution_count": 2,
   "metadata": {},
   "outputs": [
    {
     "name": "stdout",
     "output_type": "stream",
     "text": [
      "Enter a character: 5\n",
      "The ASCII value of 5 is 53\n"
     ]
    }
   ],
   "source": [
    "# 4. Write a Python Program To Find ASCII value of a character?\n",
    "char = input(\"Enter a character: \")\n",
    "\n",
    "ascii_value = ord(char)\n",
    "print(\"The ASCII value of\", char, \"is\", ascii_value)"
   ]
  },
  {
   "cell_type": "code",
   "execution_count": 3,
   "metadata": {},
   "outputs": [
    {
     "name": "stdout",
     "output_type": "stream",
     "text": [
      "Select operation:\n",
      "1. Addition\n",
      "2. Subtraction\n",
      "3. Multiplication\n",
      "4. Division\n",
      "Enter your choice (1-4): 4\n",
      "Enter first number: 2\n",
      "Enter second number: 22\n",
      "Result: 0.09090909090909091\n"
     ]
    }
   ],
   "source": [
    "# 5. Write a Python Program to Make a Simple Calculator with 4 basic mathematical operations?\n",
    "def add(x, y):\n",
    "    return x + y\n",
    "\n",
    "def subtract(x, y):\n",
    "    return x - y\n",
    "\n",
    "def multiply(x, y):\n",
    "    return x * y\n",
    "\n",
    "def divide(x, y):\n",
    "    return x / y\n",
    "\n",
    "print(\"Select operation:\")\n",
    "print(\"1. Addition\")\n",
    "print(\"2. Subtraction\")\n",
    "print(\"3. Multiplication\")\n",
    "print(\"4. Division\")\n",
    "\n",
    "choice = int(input(\"Enter your choice (1-4): \"))\n",
    "\n",
    "num1 = float(input(\"Enter first number: \"))\n",
    "num2 = float(input(\"Enter second number: \"))\n",
    "\n",
    "result = 0\n",
    "\n",
    "if choice == 1:\n",
    "    result = add(num1, num2)\n",
    "elif choice == 2:\n",
    "    result = subtract(num1, num2)\n",
    "elif choice == 3:\n",
    "    result = multiply(num1, num2)\n",
    "elif choice == 4:\n",
    "    result = divide(num1, num2)\n",
    "else:\n",
    "    print(\"Invalid choice!\")\n",
    "\n",
    "print(\"Result:\", result)"
   ]
  },
  {
   "cell_type": "code",
   "execution_count": null,
   "metadata": {},
   "outputs": [],
   "source": []
  }
 ],
 "metadata": {
  "kernelspec": {
   "display_name": "Python 3",
   "language": "python",
   "name": "python3"
  },
  "language_info": {
   "codemirror_mode": {
    "name": "ipython",
    "version": 3
   },
   "file_extension": ".py",
   "mimetype": "text/x-python",
   "name": "python",
   "nbconvert_exporter": "python",
   "pygments_lexer": "ipython3",
   "version": "3.8.5"
  }
 },
 "nbformat": 4,
 "nbformat_minor": 4
}
