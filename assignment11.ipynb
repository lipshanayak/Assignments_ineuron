{
 "cells": [
  {
   "cell_type": "code",
   "execution_count": 2,
   "metadata": {},
   "outputs": [],
   "source": [
    "# 1. Create an assert statement that throws an AssertionError if the variable spam is a negative\n",
    "# integer.\n",
    "# ans: assert spam >= 10\n",
    "\n",
    "# 2. Write an assert statement that triggers an AssertionError if the variables eggs and bacon contain\n",
    "# strings that are the same as each other, even if their cases are different (that is, &#39;hello&#39; and &#39;hello&#39; are\n",
    "# considered the same, and &#39;goodbye&#39; and &#39;GOODbye&#39; are also considered the same).\n",
    "# ans:Either assert eggs.lower() != bacon.lower() 'The eggs and bacon variables are the same!'\n",
    "#     or assert eggs.upper() != bacon.upper(), 'The eggs and bacon variables are the same!'\n",
    "\n",
    "# 3. Create an assert statement that throws an AssertionError every time.\n",
    "# ans: assert False\n",
    "\n",
    "# 4. What are the two lines that must be present in your software in order to call logging.debug()?\n",
    "# ans:import logging\n",
    "# logging.basicConfig(level=logging.DEBUG, format=' %(asctime)s -\n",
    "# %(levelname)s -  %(message)s')\n",
    "\n",
    "# 5. What are the two lines that your program must have in order to have logging.debug() send a\n",
    "# logging message to a file named programLog.txt?\n",
    "# ans:import logging\n",
    "# >>> logging.basicConfig(filename='programLog.txt', level=logging.DEBUG,\n",
    "# format=' %(asctime)s -  %(levelname)s -  %(message)s')\n",
    "\n",
    "# 6. What are the five levels of logging?\n",
    "# ans:DEBUG, INFO, WARNING, ERROR, and CRITICAL\n",
    "\n",
    "# 7. What line of code would you add to your software to disable all logging messages?\n",
    "# Ans:logging.disable(logging.CRITICAL)\n",
    "\n",
    "# 8.Why is using logging messages better than using print() to display the same message?\n",
    "# ans:Using logging messages is better than using print() because logging provides configurability,\n",
    "#     granularity in log levels, persistence, and is designed for production readiness.\n",
    "\n",
    "# 9. What are the differences between the Step Over, Step In, and Step Out buttons in the debugger?\n",
    "# Ans:The Step In button will move the debugger into a function call. The Step Over button will quickly execute the function call without stepping into it. The Step Out button will quickly execute the rest of the code until it steps out of the function it currently is in.\n",
    "\n",
    "# 10.After you click Continue, when will the debugger stop ?\n",
    "# ans:After you click Continue, the debugger will stop when it has reached the end of the program or a line with a breakpoint\n",
    "\n",
    "# 11. What is the concept of a breakpoint?\n",
    "# ans: A breakpoint is a setting on a line of code that causes the debugger to pause when the program execution reaches the line"
   ]
  },
  {
   "cell_type": "code",
   "execution_count": null,
   "metadata": {},
   "outputs": [],
   "source": []
  }
 ],
 "metadata": {
  "kernelspec": {
   "display_name": "Python 3",
   "language": "python",
   "name": "python3"
  },
  "language_info": {
   "codemirror_mode": {
    "name": "ipython",
    "version": 3
   },
   "file_extension": ".py",
   "mimetype": "text/x-python",
   "name": "python",
   "nbconvert_exporter": "python",
   "pygments_lexer": "ipython3",
   "version": "3.8.5"
  }
 },
 "nbformat": 4,
 "nbformat_minor": 4
}
