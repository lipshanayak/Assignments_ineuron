{
 "cells": [
  {
   "cell_type": "code",
   "execution_count": null,
   "metadata": {},
   "outputs": [],
   "source": [
    "# 1. How do you distinguish between shutil.copy() and shutil.copytree()?\n",
    "# ans:The shutil.copy() function will copy a single file, while shutil.copytree() will copy an entire folder,\n",
    "# along with all its contents.\n",
    "\n",
    "# 2. What function is used to rename files??\n",
    "# ans:shutil.move() \n",
    "\n",
    "# 3. What is the difference between the delete functions in the send2trash and shutil modules?\n",
    "# ans:the send2trash functions will move a file or folder to the recycle bin, \n",
    "# while shutil functions will permanently delete files and folders\n",
    "\n",
    "# 4.ZipFile objects have a close() method just like File objects’ close() method. What ZipFile method is\n",
    "# equivalent to File objects’ open() method?\n",
    "# ans:The zipfile.ZipFile() function is equivalent to the open() function; the first argument is the filename, and the second argument is the mode to open the ZIP file in (read, write, or append)\n",
    "\n",
    "# 5. Create a programme that searches a folder tree for files with a certain file extension (such as .pdf\n",
    "# or .jpg). Copy these files from whatever location they are in to a new folder.\n",
    "# ans:import os\n",
    "import shutil\n",
    "\n",
    "def copy_files_with_extension(source_folder, destination_folder, file_extension):\n",
    "    if not os.path.exists(destination_folder):\n",
    "        os.makedirs(destination_folder)\n",
    "\n",
    "   \n",
    "    for root, dirs, files in os.walk(source_folder):\n",
    "        for filename in files:\n",
    "            if filename.endswith(file_extension):\n",
    "                source_path = os.path.join(root, filename)\n",
    "                destination_path = os.path.join(destination_folder, filename)\n",
    "                shutil.copy2(source_path, destination_path)\n",
    "\n",
    "source_folder = 'path/to/source/folder' \n",
    "destination_folder = 'path/to/destination/folder' \n",
    "file_extension = 'file.pdf'  \n",
    "\n",
    "copy_files_with_extension(source_folder, destination_folder, file_extension)\n",
    "\n",
    "print(\"Files copied successfully.\")\n",
    "\n"
   ]
  }
 ],
 "metadata": {
  "kernelspec": {
   "display_name": "Python 3",
   "language": "python",
   "name": "python3"
  },
  "language_info": {
   "codemirror_mode": {
    "name": "ipython",
    "version": 3
   },
   "file_extension": ".py",
   "mimetype": "text/x-python",
   "name": "python",
   "nbconvert_exporter": "python",
   "pygments_lexer": "ipython3",
   "version": "3.8.5"
  }
 },
 "nbformat": 4,
 "nbformat_minor": 4
}
