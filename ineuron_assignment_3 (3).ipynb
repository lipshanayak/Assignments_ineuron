{
 "cells": [
  {
   "cell_type": "code",
   "execution_count": 1,
   "metadata": {},
   "outputs": [],
   "source": [
    "# 1. Why are functions advantageous to have in your programs?\n",
    "# Ans:Functions enable reuse of code, improve maintainability and scalability. So in a single Program, we can call Python functions anywhere and also call multiple times."
   ]
  },
  {
   "cell_type": "code",
   "execution_count": 3,
   "metadata": {},
   "outputs": [],
   "source": [
    "# 2. When does the code in a function run: when it's specified or when it's called?\n",
    "# Ans:Code in a function is run when function is called "
   ]
  },
  {
   "cell_type": "code",
   "execution_count": null,
   "metadata": {},
   "outputs": [],
   "source": [
    "# 3. What statement creates a function?\n",
    "# Ans:\"def\" keyword is a statement used to create a function.\n",
    "# example: def test():\n",
    "#               print(\"testing\")\n",
    "             \n",
    "# test() ---- calling the function"
   ]
  },
  {
   "cell_type": "code",
   "execution_count": 4,
   "metadata": {},
   "outputs": [],
   "source": [
    "# 4. What is the difference between a function and a function call?\n",
    "# Ans:A function is a block of code that does a particular operation and returns a result. It usually accepts inputs as parameters and returns a result.\n",
    "# def fun(a,b):\n",
    "#     return a+b\n",
    "    \n",
    "# fun(3,10)---calling the function\n",
    "# Function call evaluates to the function's return value."
   ]
  },
  {
   "cell_type": "code",
   "execution_count": 5,
   "metadata": {},
   "outputs": [],
   "source": [
    "# 5. How many global scopes are there in a Python program? How many local scopes?\n",
    "# Ans:There's only one global Python scope per program execution. This scope remains in existence until the program terminates.And local scope is determined by where the variable has been defined."
   ]
  },
  {
   "cell_type": "code",
   "execution_count": null,
   "metadata": {},
   "outputs": [],
   "source": [
    "# 6. What happens to variables in a local scope when the function call returns?\n",
    "# Ans:When the execution of the function returns, the local variables are destroyed"
   ]
  },
  {
   "cell_type": "code",
   "execution_count": null,
   "metadata": {},
   "outputs": [],
   "source": [
    "# 7. What is the concept of a return value? Is it possible to have a return value in an expression?\n",
    "# Ans:A return statement is used to end the execution of the function call and \"returns\" the result to the caller.Like any value, a return value can be used as part of an expression."
   ]
  },
  {
   "cell_type": "code",
   "execution_count": null,
   "metadata": {},
   "outputs": [],
   "source": [
    "# 8. If a function does not have a return statement, what is the return value of a call to that function?\n",
    "# Ans:then Python will return a default value and that default return value will always be None ."
   ]
  },
  {
   "cell_type": "code",
   "execution_count": null,
   "metadata": {},
   "outputs": [],
   "source": [
    "\n",
    "# 9. How do you make a function variable refer to the global variable?\n",
    "# Ans:To make a function variable as a global variable we can use the global keyword to declare which variables are global\n"
   ]
  },
  {
   "cell_type": "code",
   "execution_count": 9,
   "metadata": {},
   "outputs": [],
   "source": [
    "# 10. What is the data type of None?\n",
    "# Ans: None is a data type of its own i.e (NoneType)"
   ]
  },
  {
   "cell_type": "code",
   "execution_count": 10,
   "metadata": {},
   "outputs": [],
   "source": [
    "# 11. What does the sentence import areallyourpetsnamederic do?\n",
    "# Ans:That import statement imports a module named areallyourpetsnamederic."
   ]
  },
  {
   "cell_type": "code",
   "execution_count": 11,
   "metadata": {},
   "outputs": [],
   "source": [
    "# 12. If you had a bacon() feature in a spam module, what would you call it after importing spam?\n",
    "# Ans:import spam\n",
    "# spam.bacon()"
   ]
  },
  {
   "cell_type": "code",
   "execution_count": 12,
   "metadata": {},
   "outputs": [],
   "source": [
    "# 13. What can you do to save a programme from crashing if it encounters an error?\n",
    "# Ans: We use try and except statements to save a programme from crashing"
   ]
  },
  {
   "cell_type": "code",
   "execution_count": 8,
   "metadata": {},
   "outputs": [],
   "source": [
    "# 14. What is the purpose of the try clause? What is the purpose of the except clause?\n",
    "# Ans:The try block lets you test a block of code for errors. The except block lets you handle the error"
   ]
  },
  {
   "cell_type": "code",
   "execution_count": null,
   "metadata": {},
   "outputs": [],
   "source": []
  }
 ],
 "metadata": {
  "kernelspec": {
   "display_name": "Python 3",
   "language": "python",
   "name": "python3"
  },
  "language_info": {
   "codemirror_mode": {
    "name": "ipython",
    "version": 3
   },
   "file_extension": ".py",
   "mimetype": "text/x-python",
   "name": "python",
   "nbconvert_exporter": "python",
   "pygments_lexer": "ipython3",
   "version": "3.8.5"
  }
 },
 "nbformat": 4,
 "nbformat_minor": 4
}
