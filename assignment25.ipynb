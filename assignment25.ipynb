{
 "cells": [
  {
   "cell_type": "code",
   "execution_count": 3,
   "metadata": {},
   "outputs": [],
   "source": [
    "# 1) . What is the difference between enclosing a list comprehension in square brackets and\n",
    "# parentheses?\n",
    "# The difference between enclosing a list comprehension in square brackets [] and parentheses ():\n",
    "# Square brackets [] example:\n",
    "    \n",
    "# numbers = [x for x in range(5)]\n",
    "# print(numbers)  # Output: [0, 1, 2, 3, 4]\n",
    "# In this example, the list comprehension [x for x in range(5)] generates a new list object [0, 1, 2, 3, 4] by iterating over the\n",
    "# range of numbers.\n",
    "\n",
    "# Parentheses () example:\n",
    "\n",
    "# #If you are familiar with list comprehensions, then this look likes it might create a tuple which is (1,2,3,4,....), \n",
    "# #but it is actually a generator expression - this expression is a one time only iterator which will yield the values 1, 2, 3, 4.... in that order\n",
    "\n",
    "# lstParanthesis = (i for i in range(10))\n",
    "# lstParanthesis\n",
    "     "
   ]
  },
  {
   "cell_type": "code",
   "execution_count": 4,
   "metadata": {},
   "outputs": [],
   "source": [
    "# 2) What is the relationship between generators and iterators?\n",
    "\n",
    "# Iterators:\n",
    "\n",
    "# An iterator is an object that implements the iterator protocol, which requires the presence of __iter__() and __next__() methods.\n",
    "# Iterators allow sequential access to a collection of elements.\n",
    "# They produce one element at a time, and each subsequent element is fetched by calling the __next__() method.\n",
    "# Iterfor loop or consumed using other iterator-related constructs.\n",
    "# Generators:\n",
    "\n",
    "# Generators are a specific type of iterator that are defined using generator functions or generator expressions.\n",
    "# Generator functions are defined using the def keyword but contain one or more yield statements instead of a return statement.\n",
    "# When a generator function is called, it returns a generator object.\n",
    "# The generator object can be iterated over, and each yield statement produces a value.\n",
    "# The generator remembers its state between iterations, allowing efficient lazy evaluation of values.\n"
   ]
  },
  {
   "cell_type": "code",
   "execution_count": 5,
   "metadata": {},
   "outputs": [],
   "source": [
    "# 3) What are the signs that a function is a generator function?\n",
    "\n",
    "# If a function contains at least one yield statement (it may contain other yield or return statements),\n",
    "# it becomes a generator function. Both yield and return will return some value from a function.\n"
   ]
  },
  {
   "cell_type": "code",
   "execution_count": 6,
   "metadata": {},
   "outputs": [],
   "source": [
    "# 4) What is the purpose of a yield statement?\n",
    "\n",
    "# A yield statement looks much like a return statement, except that instead of stopping execution of the function and\n",
    "# returning, yield instead provides a value to the code looping over the generator and pauses execution of the generator function"
   ]
  },
  {
   "cell_type": "code",
   "execution_count": null,
   "metadata": {},
   "outputs": [],
   "source": [
    "# 5) What is the relationship between map calls and list comprehensions? Make a comparison and\n",
    "# contrast between the two.\n",
    "\n",
    "# Map function:\n",
    "# Suppose we have a function and we want to compute this function for different values in a single line of code .\n",
    "# This is where map() function plays its role. map() function returns a map object(which is an iterator) of the results after\n",
    "# applying the given function to each item of a given iterable (list, tuple etc.)\n",
    "\n",
    "# If we already have a function defined, it is often good to use map For example, map(sum, myLists) is more neat\n",
    "# than [sum(x) for x in myLists]. You gain the elegance of not having to make up a dummy variable (e.g. sum(x) for x... or sum(_) \n",
    "# for _... or sum(readableName) for readableName...) which you have to type twice, just to iterate.\n",
    "\n",
    "# List Comprehension:\n",
    "\n",
    "# List Comprehension is a substitute for the lambda function, map(), filter() and reduce()\n",
    "\n",
    "# Comparision :\n",
    "# List comprehension is more concise and easier to read as compared to map\n",
    "# List comprehension allows filtering. In map, we have no such facility\n",
    "# For example, to print all even numbers in range of 100, we can write [n for n in range(100) if n%2 == 0].\n",
    "# There is no alternate for it in map 3. List comprehension are used when a list of results is required, where as map only\n",
    "# returns a map object and does not return any list. 4. List comprehension is faster than map when we need to evaluate \n",
    "# expressions that are too long or complicated to express 5. Map is faster in case of calling an already defined function \n",
    "# (as no lambda is required)"
   ]
  }
 ],
 "metadata": {
  "kernelspec": {
   "display_name": "Python 3",
   "language": "python",
   "name": "python3"
  },
  "language_info": {
   "codemirror_mode": {
    "name": "ipython",
    "version": 3
   },
   "file_extension": ".py",
   "mimetype": "text/x-python",
   "name": "python",
   "nbconvert_exporter": "python",
   "pygments_lexer": "ipython3",
   "version": "3.8.5"
  }
 },
 "nbformat": 4,
 "nbformat_minor": 4
}
