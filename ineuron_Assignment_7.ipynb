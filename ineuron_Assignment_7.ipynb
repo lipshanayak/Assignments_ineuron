{
 "cells": [
  {
   "cell_type": "raw",
   "metadata": {},
   "source": [
    "# 1. What is the name of the feature responsible for generating Regex objects?\n",
    "# ans :The re.compile() function returns Regex object"
   ]
  },
  {
   "cell_type": "raw",
   "metadata": {},
   "source": [
    "# 2. Why do raw strings often appear in Regex objects?\n",
    "Raw strings are used so that backslashes do not have to be escaped"
   ]
  },
  {
   "cell_type": "raw",
   "metadata": {},
   "source": [
    "3. What is the return value of the search() method?\n",
    "ans:The search() method returns Match objects"
   ]
  },
  {
   "cell_type": "raw",
   "metadata": {},
   "source": [
    "4. From a Match item, how do you get the actual strings that match the pattern?\n",
    "ans:The group() method returns strings of the matched text."
   ]
  },
  {
   "cell_type": "raw",
   "metadata": {},
   "source": [
    "5. In the regex which created from the r'(\\d\\d\\d)-(\\d\\d\\d-\\d\\d\\d\\d)', what does group zero cover?\n",
    "Group 2? Group 1?\n",
    "ans:Group 0 is the entire match, group 1 covers the first set of parentheses, and group 2 covers the second set of parentheses\n"
   ]
  },
  {
   "cell_type": "raw",
   "metadata": {},
   "source": [
    "6. In standard expression syntax, parentheses and intervals have distinct meanings. How can you tell\n",
    "a regex that you want it to fit real parentheses and periods?\n",
    "ans: Periods and parentheses can be escaped with a backslash: \\., \\(, and \\)"
   ]
  },
  {
   "cell_type": "raw",
   "metadata": {},
   "source": [
    "7. The findall() method returns a string list or a list of string tuples. What causes it to return one of\n",
    "the two options?\n",
    "ans:If the regex has no groups, a list of strings is returned. If the regex has groups, a list of tuples of strings is returned"
   ]
  },
  {
   "cell_type": "raw",
   "metadata": {},
   "source": [
    "8. In standard expressions, what does the | character mean?\n",
    "ans:The | character signifies matching “either, or” between two groups.\n",
    "\n",
    "10.In regular expressions, what is the difference between the + and * characters?\n",
    "ans :The + matches one or more. The * matches zero or more\n",
    "\n",
    "11. What is the difference between {4} and {4,5} in regular expression?\n",
    "ans:The {4} matches exactly three instances of the preceding group. The {4,5} matches between four and five instances.\n",
    "\n",
    "12. What do you mean by the \\d, \\w, and \\s shorthand character classes signify in regular\n",
    "expressions?\n",
    "ans: The \\d, \\w, and \\s shorthand character classes match a single digit, word, or space character, respectively.\n",
    "\n",
    "13. What do means by \\D, \\W, and \\S shorthand character classes signify in regular expressions?\n",
    "ans:The \\D, \\W, and \\S shorthand character classes match a single character that is not a digit, word, or space character, respectively.\n",
    "\n",
    "14. What is the difference between .*? and .*?\n",
    "ans :The .* performs a greedy match, and the .*? performs a nongreedy match.\n",
    "\n",
    "15. What is the syntax for matching both numbers and lowercase letters with a character class?\n",
    "ans:Either [0-9a-z] or [a-z0-9]\n",
    "\n",
    "16. What is the procedure for making a normal expression in regax case insensitive?\n",
    "ans:Passing re.I or re.IGNORECASE as the second argument to re.compile() will make the matching case insensitive.\n",
    "\n",
    "17. What does the . character normally match? What does it match if re.DOTALL is passed as 2nd\n",
    "argument in re.compile()?\n",
    "ans:The . character normally matches any character except the newline character. If re.DOTALL is passed as the second argument to re.compile(), then the dot will also match newline characters\n",
    "\n",
    "18. If numReg = re.compile(r&#39;\\d+&#39;), what will numRegex.sub(&#39;X&#39;, &#39;11 drummers, 10 pipers, five rings, 4\n",
    "hen&#39;) return?\n",
    "ans :'X drummers, X pipers, five rings, X hens'\n",
    "\n",
    "19. What does passing re.VERBOSE as the 2nd argument to re.compile() allow to do?\n",
    "ans:The re.VERBOSE argument allows you to add whitespace and comments to the string passed to re.compile()\n",
    "\n",
    "20. How would you write a regex that match a number with comma for every three digits? It must\n",
    "match the given following:\n",
    "'42'\n",
    "\n",
    "'1,234'\n",
    "\n",
    "'6,368,745'\n",
    "\n",
    "but not the following:\n",
    "'12,34,567' (which has only two digits between the commas)\n",
    "\n",
    "'1234' (which lacks commas)\n",
    "ans:e.compile(r'^\\d{1,3}(,{3})*$') will create this regex, but other regex strings can produce a similar regular expression."
   ]
  },
  {
   "cell_type": "raw",
   "metadata": {},
   "source": [
    "21: How would you write a regex that matches the full name of someone whose last name is Watanabe? You can assume that the first name that comes before it will always be one word that begins with a capital letter. The regex must match the following:\n",
    "\n",
    "'Haruto Watanabe'\n",
    "\n",
    "'Alice Watanabe'\n",
    "\n",
    "'RoboCop Watanabe'\n",
    "\n",
    "but not the following:\n",
    "\n",
    "'haruto Watanabe' (where the first name is not capitalized)\n",
    "\n",
    "'Mr. Watanabe' (where the preceding word has a nonletter character)\n",
    "\n",
    "'Watanabe' (which has no first name)\n",
    "\n",
    "'Haruto watanabe' (where Watanabe is not capitalized)\n",
    "ans:import re\n",
    "\n",
    "text = \"Haruto Watanabe, Alice Watanabe, RoboCop Watanabe, haruto Watanabe, Mr. Watanabe, Watanabe, Haruto watanabe\"\n",
    "\n",
    "regex_pattern = r'\\b[A-Z][a-zA-Z]* Watanabe\\b'\n",
    "\n",
    "matches = re.findall(regex_pattern, text)\n",
    "\n",
    "print(matches)"
   ]
  },
  {
   "cell_type": "raw",
   "metadata": {},
   "source": [
    "22.How would you write a regex that matches a sentence where the first word is either Alice, Bob, or Carol; the second word is either eats, pets, or throws; the third word is apples, cats, or baseballs; and the sentence ends with a period? This regex should be case-insensitive. It must match the following:\n",
    "\n",
    "'Alice eats apples.'\n",
    "\n",
    "'Bob pets cats.'\n",
    "\n",
    "'Carol throws baseballs.'\n",
    "\n",
    "'Alice throws Apples.'\n",
    "\n",
    "'BOB EATS CATS.'\n",
    "\n",
    "but not the following:\n",
    "\n",
    "'RoboCop eats apples.'\n",
    "\n",
    "'ALICE THROWS FOOTBALLS.'\n",
    "\n",
    "'Carol eats 7 cats.'\n",
    "ans:import re\n",
    "\n",
    "text = \"Haruto Watanabe, Alice Watanabe, RoboCop Watanabe, haruto Watanabe, Mr. Watanabe, Watanabe, Haruto watanabe\"\n",
    "\n",
    "regex_pattern = r'\\b[A-Z][a-zA-Z]* Watanabe\\b'\n",
    "\n",
    "matches = re.findall(regex_pattern, text)\n",
    "\n",
    "print(matches)"
   ]
  },
  {
   "cell_type": "code",
   "execution_count": null,
   "metadata": {},
   "outputs": [],
   "source": []
  }
 ],
 "metadata": {
  "kernelspec": {
   "display_name": "Python 3",
   "language": "python",
   "name": "python3"
  },
  "language_info": {
   "codemirror_mode": {
    "name": "ipython",
    "version": 3
   },
   "file_extension": ".py",
   "mimetype": "text/x-python",
   "name": "python",
   "nbconvert_exporter": "python",
   "pygments_lexer": "ipython3",
   "version": "3.8.5"
  }
 },
 "nbformat": 4,
 "nbformat_minor": 4
}
