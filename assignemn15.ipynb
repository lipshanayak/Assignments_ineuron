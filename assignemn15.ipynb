{
 "cells": [
  {
   "cell_type": "code",
   "execution_count": null,
   "metadata": {},
   "outputs": [],
   "source": []
  },
  {
   "cell_type": "code",
   "execution_count": null,
   "metadata": {},
   "outputs": [],
   "source": [
    "# 1.How many seconds are in an hour? Use the interactive interpreter as a calculator and multiply the\n",
    "# number of seconds in a minute (60) by the number of minutes in an hour (also 60).\n",
    "# ans:seconds_in_a_minute = 60\n",
    "# seconds_in_an_hour = seconds_in_a_minute * 60\n",
    "\n",
    "# 2. Assign the result from the previous task (seconds in an hour) to a variable called\n",
    "# seconds_per_hour.\n",
    "# ans:seconds_per_hour = 3600\n",
    "    \n",
    "# 3. How many seconds do you think there are in a day? Make use of the variables seconds per hour\n",
    "# and minutes per hour.\n",
    "# ans:minutes_per_hour = 60\n",
    "# hours_per_day = 24\n",
    "# seconds_per_day = seconds_per_hour * minutes_per_hour * hours_per_day\n",
    "\n",
    "# 4. Calculate seconds per day again, but this time save the result in a variable called seconds_per_day\n",
    "# ans:seconds_per_day = seconds_per_hour * minutes_per_hour * hours_per_day\n",
    "\n",
    "# 5. Divide seconds_per_day by seconds_per_hour. Use floating-point (/) division.\n",
    "# ans:seconds_per_hour = 3600\n",
    "# seconds_per_day = 86400\n",
    "\n",
    "# result = seconds_per_day / seconds_per_hour\n",
    "\n",
    "# 6. Divide seconds_per_day by seconds_per_hour, using integer (//) division. Did this number agree\n",
    "# with the floating-point value from the previous question, aside from the final .0?\n",
    "# ans:result = seconds_per_day // seconds_per_hour\n",
    "\n",
    "# 7. Write a generator, genPrimes, that returns the sequence of prime numbers on successive calls to\n",
    "# its next() method: 2, 3, 5, 7, 11, ...\n",
    "# ANS :def genPrimes():\n",
    "#     primes = []\n",
    "#     num = 2\n",
    "#     while True:\n",
    "#         is_prime = True\n",
    "#         for prime in primes:\n",
    "#             if num % prime == 0:\n",
    "#                 is_prime = False\n",
    "#                 break\n",
    "#         if is_prime:\n",
    "#             primes.append(num)\n",
    "#             yield num\n",
    "#         num += 1\n",
    "# prime_generator = genPrimes()\n",
    "# print(next(prime_generator)) "
   ]
  }
 ],
 "metadata": {
  "kernelspec": {
   "display_name": "Python 3",
   "language": "python",
   "name": "python3"
  },
  "language_info": {
   "codemirror_mode": {
    "name": "ipython",
    "version": 3
   },
   "file_extension": ".py",
   "mimetype": "text/x-python",
   "name": "python",
   "nbconvert_exporter": "python",
   "pygments_lexer": "ipython3",
   "version": "3.8.5"
  }
 },
 "nbformat": 4,
 "nbformat_minor": 4
}
