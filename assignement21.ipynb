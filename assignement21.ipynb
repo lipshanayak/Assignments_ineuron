{
 "cells": [
  {
   "cell_type": "code",
   "execution_count": 7,
   "metadata": {},
   "outputs": [],
   "source": [
    "# 1. Add the current date to the text file today.txt as a string.\n",
    "from datetime import date\n",
    "\n",
    "today = date.today()\n",
    "cur_date = today.isoformat()\n",
    "cur_date\n",
    "# with open(\"today.txt\",\"w\")as newfile:\n",
    "#     write=strftime()\n",
    "\n",
    "with open('today.txt','w') as file:\n",
    "    file.write(cur_date)"
   ]
  },
  {
   "cell_type": "code",
   "execution_count": 10,
   "metadata": {},
   "outputs": [
    {
     "name": "stdout",
     "output_type": "stream",
     "text": [
      "['2023-05-30']\n"
     ]
    }
   ],
   "source": [
    "# 2. Read the text file today.txt into the string today_string\n",
    "with open('today.txt','r') as file:\n",
    "    today_string =file.readlines()\n",
    "    print(today_string )"
   ]
  },
  {
   "cell_type": "code",
   "execution_count": 20,
   "metadata": {},
   "outputs": [
    {
     "name": "stdout",
     "output_type": "stream",
     "text": [
      "Parsed Date: 2023-05-30\n"
     ]
    }
   ],
   "source": [
    "# 3. Parse the date from today_string.\n",
    "from datetime import datetime\n",
    "date_string = today_string[0]\n",
    "parsed_date = datetime.strptime(date_string, \"%Y-%m-%d\").date()\n",
    "print(\"Parsed Date:\", parsed_date)"
   ]
  },
  {
   "cell_type": "code",
   "execution_count": null,
   "metadata": {},
   "outputs": [],
   "source": [
    "# 4. List the files in your current directory\n",
    "import os\n",
    "\n",
    "for entry in os.scandir('.'):\n",
    "    if entry.is_file():\n",
    "        print(entry.name)"
   ]
  },
  {
   "cell_type": "code",
   "execution_count": 27,
   "metadata": {},
   "outputs": [],
   "source": [
    "# 5. Create a list of all of the files in your parent directory (minimum five files should be available).\n",
    "# ans  import os\n",
    "# os.listdir('.')\n",
    "     "
   ]
  },
  {
   "cell_type": "code",
   "execution_count": 29,
   "metadata": {},
   "outputs": [
    {
     "name": "stderr",
     "output_type": "stream",
     "text": [
      "python: can't open file 'abc.py': [Errno 2] No such file or directory\n"
     ]
    }
   ],
   "source": [
    "# 6. Use multiprocessing to create three separate processes. Make each one wait a random number of\n",
    "# seconds between one and five, print the current time, and then exit.\n",
    "import multiprocessing\n",
    "import time\n",
    "import random\n",
    "from datetime import datetime\n",
    "\n",
    "def worker():\n",
    "    wait_time = random.randint(1, 5)\n",
    "    time.sleep(wait_time)\n",
    "    current_time = datetime.now().strftime(\"%Y-%m-%d %H:%M:%S\")\n",
    "    print(f\"Current time: {current_time}\")\n",
    "    return\n",
    "\n",
    "if __name__ == '__main__':\n",
    "    processes = []\n",
    "    for _ in range(3):\n",
    "        p = multiprocessing.Process(target=worker)\n",
    "        processes.append(p)\n",
    "        p.start()\n",
    "\n",
    "    for p in processes:\n",
    "        p.join()"
   ]
  },
  {
   "cell_type": "code",
   "execution_count": 47,
   "metadata": {},
   "outputs": [
    {
     "data": {
      "text/plain": [
       "datetime.date(1997, 9, 18)"
      ]
     },
     "execution_count": 47,
     "metadata": {},
     "output_type": "execute_result"
    }
   ],
   "source": [
    "# 7. Create a date object of your day of birth.\n",
    "from datetime import date , timedelta\n",
    "my_dob = date(1997,9,18)\n",
    "my_dob\n"
   ]
  },
  {
   "cell_type": "code",
   "execution_count": 48,
   "metadata": {},
   "outputs": [
    {
     "data": {
      "text/plain": [
       "3"
      ]
     },
     "execution_count": 48,
     "metadata": {},
     "output_type": "execute_result"
    }
   ],
   "source": [
    "# 8. What day of the week was your day of birth?\n",
    "my_dob.weekday()"
   ]
  },
  {
   "cell_type": "code",
   "execution_count": 53,
   "metadata": {},
   "outputs": [
    {
     "name": "stdout",
     "output_type": "stream",
     "text": [
      "Date when you will be (or were) 10,000 days old: 2025-02-03\n"
     ]
    }
   ],
   "source": [
    "# 9. When will you be (or when were you) 10,000 days old?\n",
    "target_date = my_dob + timedelta(days=10000)\n",
    "\n",
    "print(\"Date when you will be (or were) 10,000 days old:\", target_date)\n"
   ]
  },
  {
   "cell_type": "code",
   "execution_count": null,
   "metadata": {},
   "outputs": [],
   "source": []
  }
 ],
 "metadata": {
  "kernelspec": {
   "display_name": "Python 3",
   "language": "python",
   "name": "python3"
  },
  "language_info": {
   "codemirror_mode": {
    "name": "ipython",
    "version": 3
   },
   "file_extension": ".py",
   "mimetype": "text/x-python",
   "name": "python",
   "nbconvert_exporter": "python",
   "pygments_lexer": "ipython3",
   "version": "3.8.5"
  }
 },
 "nbformat": 4,
 "nbformat_minor": 4
}
