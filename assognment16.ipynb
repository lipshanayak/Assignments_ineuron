{
 "cells": [
  {
   "cell_type": "code",
   "execution_count": 8,
   "metadata": {},
   "outputs": [
    {
     "name": "stdout",
     "output_type": "stream",
     "text": [
      "['mozzarella', 'Cinderela', 'salmonella']\n"
     ]
    }
   ],
   "source": [
    "# 1. Create a list called years_list, starting with the year of your birth, and each year thereafter until\n",
    "# the year of your fifth birthday. For example, if you were born in 1980. the list would be years_list =\n",
    "# [1980, 1981, 1982, 1983, 1984, 1985].\n",
    "# ans:years_list=[1997,1998,1999,2000,2001]\n",
    "    \n",
    "# 2. In which year in years_list was your third birthday? Remember, you were 0 years of age for your\n",
    "# first year.\n",
    "# ans:\n",
    "# birth_year = 1997\n",
    "# third_birthday_year = birth_year + 3\n",
    "\n",
    "# 3.In the years list, which year were you the oldest?\n",
    "# ans:2001\n",
    "    \n",
    "# 4. Make a list called things with these three strings as elements: &quot;mozzarella&quot;, &quot;cinderella&quot;,\n",
    "# &quot;salmonella&quot;.\n",
    "# ans: \n",
    "# things=[\"mozzarella\",\"cinderela\" ,\"salmonella\"]\n",
    "    \n",
    "# 5. Capitalize the element in things that refers to a person and then print the list. Did it change the\n",
    "# element in the list?\n",
    "# ans:\n",
    "# things[1] = things[1].capitalize()\n",
    "# print(things)\n",
    "\n"
   ]
  },
  {
   "cell_type": "code",
   "execution_count": 9,
   "metadata": {},
   "outputs": [],
   "source": [
    "# # 6. Make a surprise list with the elements &quot;Groucho,&quot; &quot;Chico,&quot; and &quot;Harpo.&quot;\n",
    "# # ans:\n",
    "# list1=[\"Groucho\",\"Chico\",\"Harpo\"]\n",
    "\n",
    "\n",
    "\n"
   ]
  },
  {
   "cell_type": "code",
   "execution_count": 10,
   "metadata": {},
   "outputs": [
    {
     "ename": "NameError",
     "evalue": "name 'last_element' is not defined",
     "output_type": "error",
     "traceback": [
      "\u001b[1;31m---------------------------------------------------------------------------\u001b[0m",
      "\u001b[1;31mNameError\u001b[0m                                 Traceback (most recent call last)",
      "\u001b[1;32m<ipython-input-10-78f8140cb28f>\u001b[0m in \u001b[0;36m<module>\u001b[1;34m\u001b[0m\n\u001b[0;32m      1\u001b[0m \u001b[1;31m# 7. Lowercase the last element of the surprise list, reverse it, and then capitalize it.\u001b[0m\u001b[1;33m\u001b[0m\u001b[1;33m\u001b[0m\u001b[1;33m\u001b[0m\u001b[0m\n\u001b[1;32m----> 2\u001b[1;33m \u001b[0mans\u001b[0m\u001b[1;33m:\u001b[0m\u001b[0mlast_element\u001b[0m \u001b[1;33m=\u001b[0m \u001b[0mlist1\u001b[0m\u001b[1;33m[\u001b[0m\u001b[1;33m-\u001b[0m\u001b[1;36m1\u001b[0m\u001b[1;33m]\u001b[0m\u001b[1;33m.\u001b[0m\u001b[0mlower\u001b[0m\u001b[1;33m(\u001b[0m\u001b[1;33m)\u001b[0m\u001b[1;33m\u001b[0m\u001b[1;33m\u001b[0m\u001b[0m\n\u001b[0m\u001b[0;32m      3\u001b[0m \u001b[0mreversed_element\u001b[0m \u001b[1;33m=\u001b[0m \u001b[0mlast_element\u001b[0m\u001b[1;33m[\u001b[0m\u001b[1;33m:\u001b[0m\u001b[1;33m:\u001b[0m\u001b[1;33m-\u001b[0m\u001b[1;36m1\u001b[0m\u001b[1;33m]\u001b[0m\u001b[1;33m\u001b[0m\u001b[1;33m\u001b[0m\u001b[0m\n\u001b[0;32m      4\u001b[0m \u001b[0mcapitalized_element\u001b[0m \u001b[1;33m=\u001b[0m \u001b[0mreversed_element\u001b[0m\u001b[1;33m.\u001b[0m\u001b[0mcapitalize\u001b[0m\u001b[1;33m(\u001b[0m\u001b[1;33m)\u001b[0m\u001b[1;33m\u001b[0m\u001b[1;33m\u001b[0m\u001b[0m\n\u001b[0;32m      5\u001b[0m \u001b[0mlist1\u001b[0m\u001b[1;33m[\u001b[0m\u001b[1;33m-\u001b[0m\u001b[1;36m1\u001b[0m\u001b[1;33m]\u001b[0m \u001b[1;33m=\u001b[0m \u001b[0mcapitalized_element\u001b[0m\u001b[1;33m\u001b[0m\u001b[1;33m\u001b[0m\u001b[0m\n",
      "\u001b[1;31mNameError\u001b[0m: name 'last_element' is not defined"
     ]
    }
   ],
   "source": [
    "# # 7. Lowercase the last element of the surprise list, reverse it, and then capitalize it.\n",
    "# ans:last_element = list1[-1].lower()\n",
    "# reversed_element = last_element[::-1]\n",
    "# capitalized_element = reversed_element.capitalize()\n",
    "# list1[-1] = capitalized_element\n"
   ]
  },
  {
   "cell_type": "code",
   "execution_count": 11,
   "metadata": {},
   "outputs": [],
   "source": [
    "# 8. Make an English-to-French dictionary called e2f and print it. Here are your starter words: dog is\n",
    "# # chien, cat is chat, and walrus is morse.\n",
    "# ans:e2f = {\n",
    "#     'dog': 'chien',\n",
    "#     'cat': 'chat',\n",
    "#     'walrus': 'morse'\n",
    "# }\n",
    "\n",
    "# print(e2f)\n",
    "\n",
    "# 9. Write the French word for walrus in your three-word dictionary e2f.\n",
    "# ans\"print(e2f['walrus'])\n",
    "\n"
   ]
  },
  {
   "cell_type": "code",
   "execution_count": 12,
   "metadata": {},
   "outputs": [],
   "source": [
    "# # 10. Make a French-to-English dictionary called f2e from e2f. Use the items method.\n",
    "# ans:f2e = {value: key for key, value in e2f.items()}\n",
    "\n",
    "# # print(f2e)\n",
    "\n",
    "# 11. Print the English version of the French word chien using f2e.\n",
    "# ans\"\n",
    "# f2e = {value: key for key, value in e2f.items()}\n",
    "# print(f2e['chien']) \n"
   ]
  },
  {
   "cell_type": "code",
   "execution_count": null,
   "metadata": {},
   "outputs": [],
   "source": [
    "# 12. Make and print a set of English words from the keys in e2f.\n",
    "# ans: \n",
    "#     english_words = set(e2f.keys())\n",
    "# print(english_words)\n",
    "\n",
    "# 13. Make a multilevel dictionary called life. Use these strings for the topmost keys: &#39;animals&#39;, &#39;plants&#39;,\n",
    "# and &#39;other&#39;. Make the &#39;animals&#39; key refer to another dictionary with the keys &#39;cats&#39;, &#39;octopi&#39;, and\n",
    "# &#39;emus&#39;. Make the &#39;cats&#39; key refer to a list of strings with the values &#39;Henri&#39;, &#39;Grumpy&#39;, and &#39;Lucy&#39;.\n",
    "# Make all the other keys refer to empty dictionaries.\n",
    "# ans:life ={'animals':{'cat':['Henri', 'Grumpy', 'Lucy'], 'octopi':'', 'emus':''},\n",
    "#        'plants' :'',\n",
    "#        'other' :'' }\n",
    "# life\n",
    "\n",
    "# 14. Print the top-level keys of life.\n",
    "# ans:life.keys()\n",
    "\n",
    "# 15. Print the keys for life[&#39;animals&#39;].\n",
    "\n",
    "# ans: life['animals'].keys()\n",
    "# 16. Print the values for life[&#39;animals&#39;][&#39;cats&#39;]\n",
    "# ans\"life['animals']['cat']"
   ]
  }
 ],
 "metadata": {
  "kernelspec": {
   "display_name": "Python 3",
   "language": "python",
   "name": "python3"
  },
  "language_info": {
   "codemirror_mode": {
    "name": "ipython",
    "version": 3
   },
   "file_extension": ".py",
   "mimetype": "text/x-python",
   "name": "python",
   "nbconvert_exporter": "python",
   "pygments_lexer": "ipython3",
   "version": "3.8.5"
  }
 },
 "nbformat": 4,
 "nbformat_minor": 4
}
