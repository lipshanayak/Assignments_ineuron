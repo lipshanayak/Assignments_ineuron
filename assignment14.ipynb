{
 "cells": [
  {
   "cell_type": "code",
   "execution_count": 1,
   "metadata": {},
   "outputs": [],
   "source": [
    "# 1. What does RGBA stand for?\n",
    "# ans:Red, Green, Blue, and Alpha.\n",
    "# 2. From the Pillow module, how do you get the RGBA value of any images?\n",
    "# ans:To get the RGBA value of an image using the Pillow module, you can use the getpixel() method of the Image object. \n",
    "#     This method returns the RGBA value of a specific pixel at a given coordinate\n",
    "# from PIL import Image\n",
    "\n",
    "# image = Image.open('image.jpg')\n",
    "# rgba_value = image.getpixel((x, y))\n",
    "\n"
   ]
  },
  {
   "cell_type": "code",
   "execution_count": 2,
   "metadata": {},
   "outputs": [],
   "source": [
    "# 3. What is a box tuple, and how does it work?\n",
    "# ans:A box tuple in the context of Pillow represents a rectangular region or box. It is a tuple of four integers (left, upper, right, lower) that defines the boundaries of the box. The left and upper coordinates represent the top-left corner, while the right and lower coordinates represent the bottom-right corner of the box. \n",
    "#     The box tuple is often used to define regions of interest or perform cropping operations on images.\n"
   ]
  },
  {
   "cell_type": "code",
   "execution_count": 3,
   "metadata": {},
   "outputs": [],
   "source": [
    "# 4. Use your image and load in notebook then, How can you find out the width and height of an\n",
    "# Image object?\n",
    "# ans:\n",
    "# from PIL import Image\n",
    "\n",
    "# image = Image.open('image.jpg')\n",
    "# width, height = image.size\n",
    "# \n",
    "\n"
   ]
  },
  {
   "cell_type": "code",
   "execution_count": 4,
   "metadata": {},
   "outputs": [],
   "source": [
    "# 5. What method would you call to get Image object for a 100×100 image, excluding the lower-left\n",
    "# quarter of it?\n",
    "# ans:from PIL import Image\n",
    "\n",
    "# image = Image.open('image.jpg')\n",
    "# cropped_image = image.crop((0, 0, 50, 50))"
   ]
  },
  {
   "cell_type": "code",
   "execution_count": null,
   "metadata": {},
   "outputs": [],
   "source": [
    "# 6. After making changes to an Image object, how could you save it as an image file?\n",
    "# ans:image.save('new_image.jpg')\n",
    "\n",
    "# 7. What module contains Pillow’s shape-drawing code?\n",
    "# ans:The ImageDraw module contains Pillow's shape-drawing code. It provides functionality to draw various shapes such as lines, rectangles, circles, polygons, and text on an Image object.\n",
    "    \n",
    "# 8. Image objects do not have drawing methods. What kind of object does? How do you get this kind\n",
    "# of object?\n",
    "# ans:from PIL import Image, ImageDraw\n",
    "\n",
    "# image = Image.open('image.jpg')\n",
    "# draw = ImageDraw.Draw(image)\n"
   ]
  }
 ],
 "metadata": {
  "kernelspec": {
   "display_name": "Python 3",
   "language": "python",
   "name": "python3"
  },
  "language_info": {
   "codemirror_mode": {
    "name": "ipython",
    "version": 3
   },
   "file_extension": ".py",
   "mimetype": "text/x-python",
   "name": "python",
   "nbconvert_exporter": "python",
   "pygments_lexer": "ipython3",
   "version": "3.8.5"
  }
 },
 "nbformat": 4,
 "nbformat_minor": 4
}
