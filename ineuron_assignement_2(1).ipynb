{
 "cells": [
  {
   "cell_type": "markdown",
   "metadata": {},
   "source": [
    "1.What are the two values of the Boolean data type? How do you write them?\n",
    "Ans:Two values of boolean data type are:true and false . Written as \"True\" and \"False\""
   ]
  },
  {
   "cell_type": "markdown",
   "metadata": {},
   "source": [
    "2. What are the three different types of Boolean operators?\n",
    "Ans:AND, OR, and NOT"
   ]
  },
  {
   "cell_type": "raw",
   "metadata": {},
   "source": [
    "3.Make a list of each Boolean operator's truth tables (i.e. every possible combination of Boolean\n",
    "values for the operator and what it evaluate ).\n",
    "Ans.True and True is True\n",
    "\n",
    "True and False is False\n",
    "\n",
    "False and True is False\n",
    "\n",
    "False and False is False\n",
    "\n",
    "True or True is True\n",
    "\n",
    "True or False is True\n",
    "\n",
    "False or True is True\n",
    "\n",
    "False or False is False\n",
    "\n",
    "not True is False\n",
    "\n",
    "not False is True\n"
   ]
  },
  {
   "cell_type": "raw",
   "metadata": {},
   "source": [
    "4. What are the values of the following expressions?\n",
    "Ans:\n",
    "(5 > 4) and (3 == 5) ---False\n",
    "not (5 > 4)----False\n",
    "(5 > 4) or (3 == 5)---True\n",
    "not ((5 > 4) or (3 == 5))--False\n",
    "(True and True) and (True == False)--False\n",
    "(not False) or (not True)--True"
   ]
  },
  {
   "cell_type": "raw",
   "metadata": {},
   "source": [
    "5. What are the six comparison operators?\n",
    "Ans:\n",
    "==\tEqual\t\tx == y\n",
    "!=\tNot equal\tx != y\t\n",
    ">\tGreater than\tx > y\t\n",
    "<\tLess than\tx < y\t\n",
    ">=\tGreater than or equal to\tx >= y\t\n",
    "<=\tLess than or equal to\tx <= y"
   ]
  },
  {
   "cell_type": "code",
   "execution_count": 7,
   "metadata": {},
   "outputs": [
    {
     "name": "stdout",
     "output_type": "stream",
     "text": [
      "5 is not equal to 3\n",
      "value of x is 5\n"
     ]
    }
   ],
   "source": [
    "# 6. How do you tell the difference between the equal to and assignment operators?Describe a\n",
    "# condition and when you would use one.\n",
    "# Ans: Equal to operator:\n",
    "if 5==3:\n",
    "    print(\"5 is equal to 3\")\n",
    "else:\n",
    "    print(\"5 is not equal to 3\")\n",
    "    \n",
    "#     assignment operator:\n",
    "x=5\n",
    "print(f\"value of x is {x}\")\n",
    "#     here we are assigning 5 to x variable ."
   ]
  },
  {
   "cell_type": "code",
   "execution_count": 5,
   "metadata": {},
   "outputs": [
    {
     "name": "stdout",
     "output_type": "stream",
     "text": [
      "ham\n",
      "spam\n",
      "spam\n"
     ]
    }
   ],
   "source": [
    "# 7. Identify the three blocks in this code:\n",
    "spam = 0\n",
    "if spam == 10:      ##block1\n",
    "    print(\"eggs\")\n",
    "if spam > 5:        ##block2\n",
    "    print(\"bacon\")\n",
    "else:               ##block3\n",
    "    print(\"ham\")\n",
    "    print(\"spam\")\n",
    "    print(\"spam\")"
   ]
  },
  {
   "cell_type": "code",
   "execution_count": 11,
   "metadata": {},
   "outputs": [
    {
     "name": "stdout",
     "output_type": "stream",
     "text": [
      "enter a num : 5\n",
      "Greetings!\n"
     ]
    }
   ],
   "source": [
    "# 8. Write code that prints Hello if 1 is stored in spam, prints Howdy if 2 is stored in spam, and prints\n",
    "# Greetings! if anything else is stored in spam.\n",
    "spam=int(input(\"enter a num : \"))\n",
    "if spam==1:\n",
    "    print(\"Hello\")\n",
    "elif spam==2:\n",
    "    print(\"Howdy\")\n",
    "else:\n",
    "    print(\"Greetings!\")"
   ]
  },
  {
   "cell_type": "raw",
   "metadata": {},
   "source": [
    "# 9.If your programme is stuck in an endless loop, what keys you’ll press?\n",
    "Ans:cntrl +c"
   ]
  },
  {
   "cell_type": "code",
   "execution_count": 17,
   "metadata": {},
   "outputs": [
    {
     "name": "stdout",
     "output_type": "stream",
     "text": [
      "result for break 0\n",
      "result for break 1\n",
      "result for break 2\n",
      "result for break 3\n",
      "result for break 4\n",
      "result for break 5\n",
      "result for break 6\n",
      "result for break 7\n",
      "result for continue 0\n",
      "result for continue 1\n",
      "result for continue 2\n",
      "result for continue 3\n",
      "result for continue 4\n",
      "result for continue 5\n",
      "result for continue 6\n",
      "result for continue 8\n",
      "result for continue 9\n"
     ]
    }
   ],
   "source": [
    "# 10. How can you tell the difference between break and continue?\n",
    "# Ans:Break statement used to break the loop to execute further .\n",
    "#     And Continue statement is used to skips the loop if condition satisfies\n",
    "# Ex:Break statement\n",
    "for i in range(10):\n",
    "    if i>7:\n",
    "        break\n",
    "    print(f\"result for break {i}\")\n",
    "# Ex:continue statement\n",
    "for i in range(10):\n",
    "    if i==7:\n",
    "        continue\n",
    "    print(f\"result for continue {i}\")"
   ]
  },
  {
   "cell_type": "code",
   "execution_count": 27,
   "metadata": {},
   "outputs": [
    {
     "name": "stdout",
     "output_type": "stream",
     "text": [
      "0\n",
      "1\n",
      "2\n",
      "3\n",
      "4\n",
      "5\n",
      "6\n",
      "7\n",
      "8\n",
      "9\n",
      "loop will continue till 9(will not include 10)\n",
      "0\n",
      "1\n",
      "2\n",
      "3\n",
      "4\n",
      "5\n",
      "6\n",
      "7\n",
      "8\n",
      "9\n",
      "here 0 is start value of sequence and  9(will not include 10) is end value of the sequence\n",
      "0\n",
      "1\n",
      "2\n",
      "3\n",
      "4\n",
      "5\n",
      "6\n",
      "7\n",
      "8\n",
      "9\n",
      "here 0 is start value of sequence and  9(will not include 10) is end value of the sequence and 1 is the step size\n"
     ]
    }
   ],
   "source": [
    "# 11. In a for loop, what is the difference between range(10), range(0, 10), and range(0, 10, 1)?\n",
    "for i in range(10):\n",
    "    print(i)\n",
    "print(\"loop will continue till 9(will not include 10)\")\n",
    "for i in range(0,10):\n",
    "    print(i)\n",
    "print(\"here 0 is start value of sequence and  9(will not include 10) is end value of the sequence\")\n",
    "for i in range(0,10,1):\n",
    "    print(i)\n",
    "print(\"here 0 is start value of sequence and  9(will not include 10) is end value of the sequence and 1 is the step size\")"
   ]
  },
  {
   "cell_type": "code",
   "execution_count": 39,
   "metadata": {},
   "outputs": [
    {
     "name": "stdout",
     "output_type": "stream",
     "text": [
      "1\n",
      "2\n",
      "3\n",
      "4\n",
      "5\n",
      "6\n",
      "7\n",
      "8\n",
      "9\n",
      "10\n",
      "using for loop\n",
      "1\n",
      "2\n",
      "3\n",
      "4\n",
      "5\n",
      "6\n",
      "7\n",
      "8\n",
      "9\n",
      "10\n",
      "using while loop\n"
     ]
    }
   ],
   "source": [
    "# 12. Write a short program that prints the numbers 1 to 10 using a for loop. Then write an equivalent\n",
    "# program that prints the numbers 1 to 10 using a while loop.\n",
    "for i in range(1,11):\n",
    "    print(i)\n",
    "print(\"using for loop\")\n",
    "\n",
    "i=0\n",
    "while i>1:\n",
    "    i+=i\n",
    "    print(i)\n",
    "j=1\n",
    "while j<=10:\n",
    "    print(j)\n",
    "    j+=1\n",
    "print(\"using while loop\")"
   ]
  },
  {
   "cell_type": "raw",
   "metadata": {},
   "source": [
    "\n",
    "13. If you had a function named bacon() inside a module named spam, how would you call it after importing spam?\n",
    "Ans:spam.bacon()"
   ]
  },
  {
   "cell_type": "code",
   "execution_count": null,
   "metadata": {},
   "outputs": [],
   "source": []
  }
 ],
 "metadata": {
  "kernelspec": {
   "display_name": "Python 3",
   "language": "python",
   "name": "python3"
  },
  "language_info": {
   "codemirror_mode": {
    "name": "ipython",
    "version": 3
   },
   "file_extension": ".py",
   "mimetype": "text/x-python",
   "name": "python",
   "nbconvert_exporter": "python",
   "pygments_lexer": "ipython3",
   "version": "3.8.5"
  }
 },
 "nbformat": 4,
 "nbformat_minor": 4
}
