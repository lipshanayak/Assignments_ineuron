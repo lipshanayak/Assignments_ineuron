{
 "cells": [
  {
   "cell_type": "code",
   "execution_count": 1,
   "id": "e62cf345",
   "metadata": {},
   "outputs": [],
   "source": [
    "# 1. Write a Python program to find words which are greater than given length k?\n",
    "def find_long_words(sentence, k):\n",
    "    words = sentence.split()\n",
    "    long_words = [word for word in words if len(word) > k]\n",
    "    return long_words\n",
    "\n",
    "\n",
    "input_sentence = input(\"Enter a sentence: \")\n",
    "k = int(input(\"Enter the threshold: \"))\n",
    "long_words = find_long_words(input_sentence, k)\n",
    "print(\"Words greater than length\", k, \":\")\n",
    "print(long_words)\n"
   ]
  },
  {
   "cell_type": "code",
   "execution_count": 4,
   "id": "6b6ab915",
   "metadata": {},
   "outputs": [
    {
     "name": "stdout",
     "output_type": "stream",
     "text": [
      "Enter a string: strength\n",
      "Enter the index of the character to remove: 2\n",
      "String after removing character at index 2 :\n",
      "stength\n"
     ]
    }
   ],
   "source": [
    "\n",
    "# 2. Write a Python program for removing i-th character from a string?\n",
    "def remove_character(string, i):\n",
    "    new_string = string[:i] + string[i+1:]\n",
    "    return new_string\n",
    "\n",
    "input_string = input(\"Enter a string: \")\n",
    "i = int(input(\"index of the character to remove: \"))\n",
    "new_string = remove_character(input_string, i)\n",
    "print(\"after removing character at index\", i, \":\")\n",
    "print(new_string)\n"
   ]
  },
  {
   "cell_type": "code",
   "execution_count": 5,
   "id": "82bc3138",
   "metadata": {},
   "outputs": [
    {
     "name": "stdout",
     "output_type": "stream",
     "text": [
      "Enter a string: info@ineuron.com\n",
      "Enter the delimiter: @\n",
      "String after splitting and joining:\n",
      "info-ineuron.com\n"
     ]
    }
   ],
   "source": [
    "# 3. Write a Python program to split and join a string?\n",
    "def split_and_join(string, delimiter):\n",
    "    words = string.split(delimiter)\n",
    "    new_string = \"-\".join(words) \n",
    "    return new_string\n",
    "\n",
    "input_string = input(\"Enter a string: \")\n",
    "delimiter = input(\"Enter the delimiter: \")\n",
    "new_string = split_and_join(input_string, delimiter)\n",
    "print(\"String after splitting and joining:\")\n",
    "print(new_string)\n"
   ]
  },
  {
   "cell_type": "code",
   "execution_count": 9,
   "id": "1681de79",
   "metadata": {},
   "outputs": [
    {
     "name": "stdout",
     "output_type": "stream",
     "text": [
      "Enter a string: 1010\n",
      "The string is a binary string\n"
     ]
    }
   ],
   "source": [
    "# 4. Write a Python to check if a given string is binary string or not?\n",
    "def is_binary_string(string):\n",
    "    for char in string:\n",
    "        if char != '0' and char != '1':\n",
    "            return False\n",
    "    return True\n",
    "\n",
    "input_string = input(\"Enter a string: \")\n",
    "if is_binary_string(input_string):\n",
    "    \n",
    "    print(\"The string is a binary string\")\n",
    "else:\n",
    "    print(\"The string is not a binary string\")\n",
    "\n"
   ]
  },
  {
   "cell_type": "code",
   "execution_count": 12,
   "id": "e3c6f17c",
   "metadata": {},
   "outputs": [
    {
     "name": "stdout",
     "output_type": "stream",
     "text": [
      "first string: \n",
      " second string: \n",
      "Uncommon words \n",
      "set()\n"
     ]
    }
   ],
   "source": [
    "# 5. Write a Python program to find uncommon words from two Strings?\n",
    "def find_uncommon_words(string1, string2):\n",
    "    words1 = set(string1.split())\n",
    "    words2 = set(string2.split())\n",
    "    uncommon_words = words1.symmetric_difference(words2)\n",
    "    return uncommon_words\n",
    "\n",
    "input_string1 = input(\"first string: \")\n",
    "input_string2 = input(\" second string: \")\n",
    "uncommon_words = find_uncommon_words(input_string1, input_string2)\n",
    "print(\"Uncommon words \")\n",
    "print(uncommon_words)\n",
    "\n"
   ]
  },
  {
   "cell_type": "code",
   "execution_count": 14,
   "id": "61cb4575",
   "metadata": {},
   "outputs": [
    {
     "name": "stdout",
     "output_type": "stream",
     "text": [
      "Enter a string: \n",
      "Duplicate characters in the string:\n",
      "[]\n"
     ]
    }
   ],
   "source": [
    "# 6. Write a Python to find all duplicate characters in string?\n",
    "def find_duplicate_characters(string):\n",
    "    duplicate_chars = []\n",
    "    for char in string:\n",
    "        if string.count(char) > 1 and char not in duplicate_chars:\n",
    "            duplicate_chars.append(char)\n",
    "    return duplicate_chars\n",
    "\n",
    "\n",
    "input_string = input(\"Enter a string: \")\n",
    "duplicate_chars = find_duplicate_characters(input_string)\n",
    "print(\"Duplicate characters in the string:\")\n",
    "print(duplicate_chars)\n",
    "\n"
   ]
  },
  {
   "cell_type": "code",
   "execution_count": 15,
   "id": "e6eb44e6",
   "metadata": {},
   "outputs": [
    {
     "name": "stdout",
     "output_type": "stream",
     "text": [
      "Enter a string: r3298rwon9-op24!@#E\n",
      "The string contains special characters\n"
     ]
    }
   ],
   "source": [
    "# 7. Write a Python Program to check if a string contains any special character?\n",
    "import re\n",
    "\n",
    "def contains_special_characters(string):\n",
    "    pattern = re.compile('[!@#$%^&*(),.?\":{}|<>]')\n",
    "    if pattern.search(string):\n",
    "        return True\n",
    "    else:\n",
    "        return False\n",
    "\n",
    "# Example usage\n",
    "input_string = input(\"Enter a string: \")\n",
    "if contains_special_characters(input_string):\n",
    "    print(\"The string contains special characters\")\n",
    "else:\n",
    "    print(\"The string does not contain special characters\")\n"
   ]
  },
  {
   "cell_type": "code",
   "execution_count": null,
   "id": "268d2287",
   "metadata": {},
   "outputs": [],
   "source": []
  }
 ],
 "metadata": {
  "kernelspec": {
   "display_name": "Python 3 (ipykernel)",
   "language": "python",
   "name": "python3"
  },
  "language_info": {
   "codemirror_mode": {
    "name": "ipython",
    "version": 3
   },
   "file_extension": ".py",
   "mimetype": "text/x-python",
   "name": "python",
   "nbconvert_exporter": "python",
   "pygments_lexer": "ipython3",
   "version": "3.10.9"
  }
 },
 "nbformat": 4,
 "nbformat_minor": 5
}
