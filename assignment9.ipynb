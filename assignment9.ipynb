{
 "cells": [
  {
   "cell_type": "code",
   "execution_count": 1,
   "metadata": {},
   "outputs": [],
   "source": [
    "# 1. To what does a relative path refer?\n",
    "# ans:A relative path refers to a file or directory location that is specified relative to the current working directory or another known location. \n",
    "#     It does not start with the root directory and relies on the context of the current working directory to determine the complete path\n"
   ]
  },
  {
   "cell_type": "code",
   "execution_count": 2,
   "metadata": {},
   "outputs": [],
   "source": [
    "# 2. What does an absolute path start with your operating system?\n",
    "# ans: Absolute paths start with the root folder, such as / or C:\\\n"
   ]
  },
  {
   "cell_type": "code",
   "execution_count": 3,
   "metadata": {},
   "outputs": [],
   "source": [
    "# 3. What do the functions os.getcwd() and os.chdir() do?\n",
    "# ans:The os.getcwd() function returns the current working directory.\n",
    "# The os.chdir() function changes the current working directory.\n"
   ]
  },
  {
   "cell_type": "code",
   "execution_count": 4,
   "metadata": {},
   "outputs": [],
   "source": [
    "# 4. What are the . and .. folders?\n",
    "# ans:The . folder is the current folder, and .. is the parent folder.\n",
    "\n"
   ]
  },
  {
   "cell_type": "code",
   "execution_count": 5,
   "metadata": {},
   "outputs": [],
   "source": [
    "# 5. In C:\\bacon\\eggs\\spam.txt, which part is the dir name, and which part is the base name?\n",
    "# ans:C:\\bacon\\eggs is the dir name, while spam.txt is the base name\n",
    "\n",
    "# "
   ]
  },
  {
   "cell_type": "code",
   "execution_count": 6,
   "metadata": {},
   "outputs": [],
   "source": [
    "# 6. What are the three “mode” arguments that can be passed to the open() function?\n",
    "# ans:The three \"mode\" arguments that can be passed to the open() function in Python are:\n",
    "# 'r': Read mode. Opens the file for reading (default mode).\n",
    "# 'w': Write mode. Opens the file for writing. Creates a new file or overwrites the existing contents of the file.\n",
    "# 'a': Append mode. Opens the file for writing. Appends new data to the end of the file if it exists, \n",
    "# or creates a new file if it doesn't exist.\n",
    "\n"
   ]
  },
  {
   "cell_type": "code",
   "execution_count": 7,
   "metadata": {},
   "outputs": [],
   "source": [
    "# 7. What happens if an existing file is opened in write mode?\n",
    "# ans:An existing file opened in write mode is erased and completely overwritten\n"
   ]
  },
  {
   "cell_type": "code",
   "execution_count": null,
   "metadata": {},
   "outputs": [],
   "source": [
    "# 8. How do you tell the difference between read() and readlines()?\n",
    "# ans:The read() method returns the file’s entire contents as a single string value.\n",
    "# The readlines() method returns a list of strings, where each string is a line from the file’s contents.\n",
    "\n",
    "# # 9. What data structure does a shelf value resemble?\n",
    "# ans:A shelf value resembles a dictionary value; it has keys and values, along with keys() and values() methods that work similarly to the dictionary methods of the same names."
   ]
  }
 ],
 "metadata": {
  "kernelspec": {
   "display_name": "Python 3",
   "language": "python",
   "name": "python3"
  },
  "language_info": {
   "codemirror_mode": {
    "name": "ipython",
    "version": 3
   },
   "file_extension": ".py",
   "mimetype": "text/x-python",
   "name": "python",
   "nbconvert_exporter": "python",
   "pygments_lexer": "ipython3",
   "version": "3.8.5"
  }
 },
 "nbformat": 4,
 "nbformat_minor": 4
}
