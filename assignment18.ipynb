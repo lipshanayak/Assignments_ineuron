{
 "cells": [
  {
   "cell_type": "code",
   "execution_count": 1,
   "metadata": {},
   "outputs": [],
   "source": [
    "# 1. Create a zoo.py file first. Define the hours() function, which prints the string &#39;Open 9-5 daily&#39;.Then, use the interactive interpreter to import the zoo module and call its hours() function.\n",
    "# ans:import zoo\n",
    "# from importlib import reload\n",
    "# reload(zoo)\n",
    "\n",
    "# zoo.hours()\n",
    "\n"
   ]
  },
  {
   "cell_type": "code",
   "execution_count": 2,
   "metadata": {},
   "outputs": [
    {
     "ename": "SyntaxError",
     "evalue": "invalid syntax (<ipython-input-2-d6114bfc0093>, line 11)",
     "output_type": "error",
     "traceback": [
      "\u001b[1;36m  File \u001b[1;32m\"<ipython-input-2-d6114bfc0093>\"\u001b[1;36m, line \u001b[1;32m11\u001b[0m\n\u001b[1;33m    5. Create a plain dictionary with the key-value pairs &#39;a&#39;: 1, &#39;b&#39;: 2, and &#39;c&#39;: 3, and print it out.\u001b[0m\n\u001b[1;37m       ^\u001b[0m\n\u001b[1;31mSyntaxError\u001b[0m\u001b[1;31m:\u001b[0m invalid syntax\n"
     ]
    }
   ],
   "source": [
    "# 2. In the interactive interpreter, import the zoo module as menagerie and call its hours() function.\n",
    "# ans:2. In the interactive interpreter, import the zoo module as menagerie and call its hours() function.\n",
    "\n",
    "# 3. Using the interpreter, explicitly import and call the hours() function from zoo.\n",
    "# ans\"from zoo import hours\n",
    "# hours()\n",
    "\n",
    "# 4. Import the hours() function as info and call it.\n",
    "# ans:from zoo import hours as info\n",
    "# info()\n",
    "\n",
    "# 5. Create a plain dictionary with the key-value pairs &#39;a&#39;: 1, &#39;b&#39;: 2, and &#39;c&#39;: 3, and print it out.\n",
    "# ans\"plain = {'a': 1, 'b': 2, 'c': 3}\n",
    "# plain\n",
    "\n",
    "# 6.Make an OrderedDict called fancy from the same pairs listed in 5 and print it. Did it print in the\n",
    "# same order as plain?\n",
    "# ans:\n",
    "#     from collections import OrderedDict\n",
    "# fancy = OrderedDict([('a', 1), ('b', 2), ('c', 3)])\n",
    "# fancy\n",
    "# YES\n",
    "\n"
   ]
  },
  {
   "cell_type": "code",
   "execution_count": null,
   "metadata": {},
   "outputs": [],
   "source": [
    "# 7. Make a default dictionary called dict_of_lists and pass it the argument list. Make the list\n",
    "# dict_of_lists[&#39;a&#39;] and append the value &#39;something for a&#39; to it in one assignment. Print\n",
    "# dict_of_lists[&#39;a&#39;].?\n",
    "# ans:\n",
    "# from collections import defaultdict\n",
    "# dict_of_lists = defaultdict(list)\n",
    "# dict_of_lists['a'].append('something for a')\n",
    "# dict_of_lists['a']\n"
   ]
  }
 ],
 "metadata": {
  "kernelspec": {
   "display_name": "Python 3",
   "language": "python",
   "name": "python3"
  },
  "language_info": {
   "codemirror_mode": {
    "name": "ipython",
    "version": 3
   },
   "file_extension": ".py",
   "mimetype": "text/x-python",
   "name": "python",
   "nbconvert_exporter": "python",
   "pygments_lexer": "ipython3",
   "version": "3.8.5"
  }
 },
 "nbformat": 4,
 "nbformat_minor": 4
}
