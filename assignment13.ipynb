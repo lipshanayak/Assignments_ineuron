{
 "cells": [
  {
   "cell_type": "code",
   "execution_count": 1,
   "metadata": {},
   "outputs": [],
   "source": [
    "# 1. What advantages do Excel spreadsheets have over CSV spreadsheets?\n",
    "# ans:Excel spreadsheets support more complex data structures, including multiple sheets, formulas, and formatting options.\n",
    "# Excel allows for interactive data analysis and manipulation, including sorting, filtering, and visualizations.\n",
    "# Excel provides features for data validation, conditional formatting, and data analysis tools like pivot tables.\n",
    "# Excel supports macros and automation through VBA (Visual Basic for Applications).\n",
    "# Excel files can contain images, charts, and other graphical elements.\n"
   ]
  },
  {
   "cell_type": "code",
   "execution_count": 2,
   "metadata": {},
   "outputs": [],
   "source": [
    "# 2.What do you pass to csv.reader() and csv.writer() to create reader and writer objects?\n",
    "# ans:To create reader and writer objects using the csv module, you pass a File object as an argument to csv.reader() and csv.writer(). Typically, you open the file in the appropriate mode (e.g., 'r' for reading, 'w' for writing) using the open() function and pass the resulting file object to the csv.reader() or csv.writer() function\n"
   ]
  },
  {
   "cell_type": "code",
   "execution_count": 3,
   "metadata": {},
   "outputs": [],
   "source": [
    "# 3. What modes do File objects for reader and writer objects need to be opened in?\n",
    "# ans:Reader object: The File object needs to be opened in text mode ('r') \n",
    "# Writer object: The File object needs to be opened in text mode ('w') \n"
   ]
  },
  {
   "cell_type": "code",
   "execution_count": 5,
   "metadata": {},
   "outputs": [],
   "source": [
    "    \n",
    "# 4. What method takes a list argument and writes it to a CSV file?\n",
    "# ans:The writerow() method of a writer object in the csv module takes a list argument and writes it as a row to a CSV file. Each element in the list corresponds to a column value in the row.\n"
   ]
  },
  {
   "cell_type": "code",
   "execution_count": 7,
   "metadata": {},
   "outputs": [],
   "source": [
    "# 5. What do the keyword arguments delimiter and line terminator do?\n",
    "# ans:delimiter: It specifies the character used to separate fields in the CSV file. The default delimiter is a comma (,), but it can be customized by specifying a different delimiter character.\n",
    "# lineterminator: It specifies the character sequence used to terminate lines in the CSV file. The default line terminator is the newline character (\\n), but it can be customized to use a different sequence.\n"
   ]
  },
  {
   "cell_type": "code",
   "execution_count": null,
   "metadata": {},
   "outputs": [],
   "source": [
    "# 6. What function takes a string of JSON data and returns a Python data structure\n",
    "# ans: json.loads() function takes a string of JSON data and parses it to return a corresponding Python data structure\n",
    "# 7. What function takes a Python data structure and returns a string of JSON data?\n",
    "# ans: json.loads() function takes a string of JSON data and parses it to return a corresponding Python data structure"
   ]
  }
 ],
 "metadata": {
  "kernelspec": {
   "display_name": "Python 3",
   "language": "python",
   "name": "python3"
  },
  "language_info": {
   "codemirror_mode": {
    "name": "ipython",
    "version": 3
   },
   "file_extension": ".py",
   "mimetype": "text/x-python",
   "name": "python",
   "nbconvert_exporter": "python",
   "pygments_lexer": "ipython3",
   "version": "3.8.5"
  }
 },
 "nbformat": 4,
 "nbformat_minor": 4
}
